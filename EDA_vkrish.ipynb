{
  "nbformat": 4,
  "nbformat_minor": 0,
  "metadata": {
    "colab": {
      "name": "EDA_vkrish.ipynb",
      "provenance": [],
      "collapsed_sections": []
    },
    "kernelspec": {
      "name": "python3",
      "display_name": "Python 3"
    },
    "language_info": {
      "name": "python"
    }
  },
  "cells": [
    {
      "cell_type": "code",
      "execution_count": null,
      "metadata": {
        "id": "FxyEo-Zu8lp7"
      },
      "outputs": [],
      "source": [
        "# ML project"
      ]
    },
    {
      "cell_type": "markdown",
      "source": [
        "**Exploratory Data Analysis**"
      ],
      "metadata": {
        "id": "81YHWNhsHAx9"
      }
    },
    {
      "cell_type": "markdown",
      "source": [
        "**Initialize Spark**"
      ],
      "metadata": {
        "id": "pFzQKZx7jFGu"
      }
    },
    {
      "cell_type": "code",
      "source": [
        "# Spark init\n",
        "\n",
        "!wget -q https://dlcdn.apache.org/spark/spark-3.1.2/spark-3.1.2-bin-hadoop2.7.tgz \n",
        "!tar xf spark-3.1.2-bin-hadoop2.7.tgz\n",
        "import os\n",
        "os.environ[\"JAVA_HOME\"] = \"/usr/lib/jvm/default-java\"\n",
        "os.environ[\"SPARK_HOME\"] = \"/content/spark-3.1.2-bin-hadoop2.7\"\n",
        "!pip install -q findspark\n",
        "import findspark\n",
        "findspark.init()"
      ],
      "metadata": {
        "id": "gf1Hsa4CHE4e"
      },
      "execution_count": 1,
      "outputs": []
    },
    {
      "cell_type": "code",
      "source": [
        "# Import pyspark session\n",
        "\n",
        "from pyspark.sql.types import *\n",
        "from pyspark.sql import SparkSession\n",
        "\n",
        "spark = SparkSession.builder\\\n",
        "        .master(\"local\")\\\n",
        "        .appName(\"Colab\")\\\n",
        "        .config('spark.ui.port', '4050')\\\n",
        "        .getOrCreate()"
      ],
      "metadata": {
        "id": "aigCY84_jgh8"
      },
      "execution_count": 2,
      "outputs": []
    },
    {
      "cell_type": "code",
      "source": [
        "\n",
        "import os.path, json, io\n",
        "import matplotlib.pyplot as plt\n",
        "import matplotlib\n",
        "matplotlib.style.use('ggplot')\n",
        "matplotlib.rcParams['figure.figsize'] = (16, 20)\n",
        "! pip install retrying\n",
        "from retrying import retry # for exponential back down when calling TurboOverdrive API\n",
        "\n",
        "import pyspark.sql.functions as func # resuse as func.coalace for example\n",
        "from pyspark.sql.types import StringType, IntegerType, FloatType, DoubleType,DecimalType\n",
        "from pyspark.sql import SparkSession\n",
        "\n",
        "import pandas as pd\n",
        "from geopandas import GeoDataFrame # Loading boundaries Data\n",
        "from shapely.geometry import shapely,Point, Polygon, shape # creating geospatial data\n",
        "from shapely import wkb, wkt # creating and parsing geospatial data\n",
        "from ast import literal_eval as make_tuple # used to decode data from java"
      ],
      "metadata": {
        "colab": {
          "base_uri": "https://localhost:8080/"
        },
        "id": "SyskBgIzZVyB",
        "outputId": "aaeb7beb-c00b-4840-db83-820b84acd9ea"
      },
      "execution_count": 80,
      "outputs": [
        {
          "output_type": "stream",
          "name": "stdout",
          "text": [
            "Requirement already satisfied: retrying in /usr/local/lib/python3.7/dist-packages (1.3.3)\n",
            "Requirement already satisfied: six>=1.7.0 in /usr/local/lib/python3.7/dist-packages (from retrying) (1.15.0)\n"
          ]
        }
      ]
    },
    {
      "cell_type": "code",
      "source": [
        "# Mount google drive\n",
        "\n",
        "from google.colab import drive\n",
        "drive.mount('/content/drive')"
      ],
      "metadata": {
        "colab": {
          "base_uri": "https://localhost:8080/"
        },
        "id": "7eSZbxqXjkZq",
        "outputId": "90273abe-ca95-4742-a963-0ddebbcd5d90"
      },
      "execution_count": 3,
      "outputs": [
        {
          "output_type": "stream",
          "name": "stdout",
          "text": [
            "Mounted at /content/drive\n"
          ]
        }
      ]
    },
    {
      "cell_type": "markdown",
      "source": [
        "**Load The Data**"
      ],
      "metadata": {
        "id": "blyz4MdSkD_h"
      }
    },
    {
      "cell_type": "code",
      "source": [
        "# Read the data from raw files for 2015 and 2016 \n",
        "df_raw_data_2016 = spark.read.csv('/content/drive/MyDrive/data/uber-raw-data-jantojune-16.csv', sep=',', header=True)\n",
        "df_raw_data_2015 = spark.read.csv('/content/drive/MyDrive/data/uber-raw-data-jantojune-15.csv', sep=',', header=True)"
      ],
      "metadata": {
        "id": "9V2zsd7ijrEV"
      },
      "execution_count": 4,
      "outputs": []
    },
    {
      "cell_type": "code",
      "source": [
        "# Display head to check the data read into dataframes\n",
        "\n",
        "df_raw_data_2016.head(5)"
      ],
      "metadata": {
        "colab": {
          "base_uri": "https://localhost:8080/"
        },
        "id": "0MOcgbejDAXa",
        "outputId": "b4250565-a04f-477d-a979-e15ea3ab6498"
      },
      "execution_count": 5,
      "outputs": [
        {
          "output_type": "execute_result",
          "data": {
            "text/plain": [
              "[Row(id='id0190469', vendor_id='2', pickup_datetime='01/01/2016', dropoff_datetime='01/01/2016', passenger_count='5', pickup_longitude='-73.98174286', pickup_latitude='40.71915817', dropoff_longitude='-73.93882751', dropoff_latitude='40.82918167', store_and_fwd_flag='N', trip_duration='849'),\n",
              " Row(id='id1665586', vendor_id='1', pickup_datetime='01/01/2016', dropoff_datetime='01/01/2016', passenger_count='1', pickup_longitude='-73.98508453', pickup_latitude='40.74716568', dropoff_longitude='-73.95803833', dropoff_latitude='40.71749115', store_and_fwd_flag='N', trip_duration='1294'),\n",
              " Row(id='id1210365', vendor_id='2', pickup_datetime='01/01/2016', dropoff_datetime='01/01/2016', passenger_count='5', pickup_longitude='-73.96527863', pickup_latitude='40.80104065', dropoff_longitude='-73.94747925', dropoff_latitude='40.81517029', store_and_fwd_flag='N', trip_duration='408'),\n",
              " Row(id='id3888279', vendor_id='1', pickup_datetime='01/01/2016', dropoff_datetime='01/01/2016', passenger_count='1', pickup_longitude='-73.98229218', pickup_latitude='40.75133133', dropoff_longitude='-73.99134064', dropoff_latitude='40.75033951', store_and_fwd_flag='N', trip_duration='280'),\n",
              " Row(id='id0924227', vendor_id='1', pickup_datetime='01/01/2016', dropoff_datetime='01/01/2016', passenger_count='1', pickup_longitude='-73.97010803', pickup_latitude='40.75979996', dropoff_longitude='-73.98935699', dropoff_latitude='40.74298859', store_and_fwd_flag='N', trip_duration='736')]"
            ]
          },
          "metadata": {},
          "execution_count": 5
        }
      ]
    },
    {
      "cell_type": "code",
      "source": [
        "# Drop the columns that are not needed from the dataframe and store it in a new clean dataframe\n",
        "\n",
        "cols =['id','vendor_id','dropoff_datetime','passenger_count','dropoff_longitude','dropoff_latitude','store_and_fwd_flag','trip_duration']\n",
        "\n",
        "df_raw_data_2016_clean= df_raw_data_2016.drop(*cols)"
      ],
      "metadata": {
        "id": "eD6lo5KiDf2D"
      },
      "execution_count": 6,
      "outputs": []
    },
    {
      "cell_type": "code",
      "source": [
        "# Display the clean dataframe to ensure the columns are dropped\n",
        "\n",
        "df_raw_data_2016_clean.head(5)"
      ],
      "metadata": {
        "colab": {
          "base_uri": "https://localhost:8080/"
        },
        "id": "nB2re4vHD5ex",
        "outputId": "2b1d4430-901e-4255-f33c-fd823490f5ee"
      },
      "execution_count": 7,
      "outputs": [
        {
          "output_type": "execute_result",
          "data": {
            "text/plain": [
              "[Row(pickup_datetime='01/01/2016', pickup_longitude='-73.98174286', pickup_latitude='40.71915817'),\n",
              " Row(pickup_datetime='01/01/2016', pickup_longitude='-73.98508453', pickup_latitude='40.74716568'),\n",
              " Row(pickup_datetime='01/01/2016', pickup_longitude='-73.96527863', pickup_latitude='40.80104065'),\n",
              " Row(pickup_datetime='01/01/2016', pickup_longitude='-73.98229218', pickup_latitude='40.75133133'),\n",
              " Row(pickup_datetime='01/01/2016', pickup_longitude='-73.97010803', pickup_latitude='40.75979996')]"
            ]
          },
          "metadata": {},
          "execution_count": 7
        }
      ]
    },
    {
      "cell_type": "code",
      "source": [
        "# Drop the columns that are not needed from the dataframe and store it in a new clean dataframe\n",
        "\n",
        "cols =['Dispatching_base_num','Affiliated_base_num','locationID']\n",
        "\n",
        "df_raw_data_2015_clean= df_raw_data_2015.drop(*cols)"
      ],
      "metadata": {
        "id": "Rz5KZbZKFLPw"
      },
      "execution_count": 8,
      "outputs": []
    },
    {
      "cell_type": "code",
      "source": [
        "# Display the clean dataframe to ensure the columns are dropped\n",
        "\n",
        "df_raw_data_2015_clean.head(5)"
      ],
      "metadata": {
        "colab": {
          "base_uri": "https://localhost:8080/"
        },
        "id": "Hsbj4-OsDDTr",
        "outputId": "c94ac73e-d421-4fd4-8751-d452700abac4"
      },
      "execution_count": 9,
      "outputs": [
        {
          "output_type": "execute_result",
          "data": {
            "text/plain": [
              "[Row(Pickup_date='05/17/2015', pickup_longitude='-73.93882751', pickup_latitude='40.82918167'),\n",
              " Row(Pickup_date='05/17/2015', pickup_longitude='-73.95803833', pickup_latitude='40.71749115'),\n",
              " Row(Pickup_date='05/17/2015', pickup_longitude='-73.94747925', pickup_latitude='40.81517029'),\n",
              " Row(Pickup_date='05/17/2015', pickup_longitude='-73.99134064', pickup_latitude='40.75033951'),\n",
              " Row(Pickup_date='05/17/2015', pickup_longitude='-73.98935699', pickup_latitude='40.74298859')]"
            ]
          },
          "metadata": {},
          "execution_count": 9
        }
      ]
    },
    {
      "cell_type": "code",
      "source": [
        "# Combine the two dataframes into one\n",
        "\n",
        "unionDF = df_raw_data_2016_clean.union(df_raw_data_2015_clean)\n",
        "unionDF.show(truncate=False)"
      ],
      "metadata": {
        "colab": {
          "base_uri": "https://localhost:8080/"
        },
        "id": "WSF_DQ3_CdSu",
        "outputId": "700a1dd9-a463-4526-f95a-f864e97cbee2"
      },
      "execution_count": 10,
      "outputs": [
        {
          "output_type": "stream",
          "name": "stdout",
          "text": [
            "+---------------+----------------+---------------+\n",
            "|pickup_datetime|pickup_longitude|pickup_latitude|\n",
            "+---------------+----------------+---------------+\n",
            "|01/01/2016     |-73.98174286    |40.71915817    |\n",
            "|01/01/2016     |-73.98508453    |40.74716568    |\n",
            "|01/01/2016     |-73.96527863    |40.80104065    |\n",
            "|01/01/2016     |-73.98229218    |40.75133133    |\n",
            "|01/01/2016     |-73.97010803    |40.75979996    |\n",
            "|01/01/2016     |-73.97333527    |40.76407242    |\n",
            "|01/01/2016     |-73.99310303    |40.75263214    |\n",
            "|01/01/2016     |-73.98544312    |40.73571014    |\n",
            "|01/01/2016     |-73.99373627    |40.74176025    |\n",
            "|01/01/2016     |-73.97686005    |40.68337631    |\n",
            "|01/01/2016     |-73.9697876     |40.75758362    |\n",
            "|01/01/2016     |-73.99397278    |40.74086761    |\n",
            "|01/01/2016     |-73.9595108     |40.76280975    |\n",
            "|01/01/2016     |-73.99025726    |40.73703384    |\n",
            "|01/01/2016     |-73.99013519    |40.74885178    |\n",
            "|01/01/2016     |-74.00531769    |40.72866058    |\n",
            "|01/01/2016     |-73.93579865    |40.70730972    |\n",
            "|01/01/2016     |-73.99495697    |40.745121      |\n",
            "|01/01/2016     |-73.99046326    |40.75100708    |\n",
            "|01/01/2016     |-73.9536438     |40.77526093    |\n",
            "+---------------+----------------+---------------+\n",
            "only showing top 20 rows\n",
            "\n"
          ]
        }
      ]
    },
    {
      "cell_type": "code",
      "source": [
        "# Display schema\n",
        "\n",
        "unionDF.printSchema()"
      ],
      "metadata": {
        "colab": {
          "base_uri": "https://localhost:8080/"
        },
        "id": "DsIUWSDaj71e",
        "outputId": "4d6eb8eb-f8f1-4b3f-a134-067a023f3765"
      },
      "execution_count": 11,
      "outputs": [
        {
          "output_type": "stream",
          "name": "stdout",
          "text": [
            "root\n",
            " |-- pickup_datetime: string (nullable = true)\n",
            " |-- pickup_longitude: string (nullable = true)\n",
            " |-- pickup_latitude: string (nullable = true)\n",
            "\n"
          ]
        }
      ]
    },
    {
      "cell_type": "code",
      "source": [
        "# Change the dataype of the latitiude column\n",
        "unionDF = unionDF.withColumn(\"pickup_latitude\", unionDF['pickup_latitude'].\\\n",
        "           \t\t\t\t\t\t\t\tcast(FloatType()))"
      ],
      "metadata": {
        "id": "7H5wo0Cn4IU_"
      },
      "execution_count": 12,
      "outputs": []
    },
    {
      "cell_type": "code",
      "source": [
        "# Chsnge the datatype of the longitude column\n",
        "unionDF = unionDF.withColumn(\"pickup_longitude\", unionDF['pickup_longitude'].\\\n",
        "           \t\t\t\t\t\t\t\tcast(FloatType()))"
      ],
      "metadata": {
        "id": "n2XADhC04Ii4"
      },
      "execution_count": 13,
      "outputs": []
    },
    {
      "cell_type": "code",
      "source": [
        "# Convert the datetime column data type to date data type\n",
        "\n",
        "from datetime import datetime\n",
        "\n",
        "from pyspark.sql.functions import col, udf\n",
        "\n",
        "from pyspark.sql.types import DateType\n",
        "\n",
        "# Setting an user define function:\n",
        "\n",
        "# This function converts the string cell into a date:\n",
        "\n",
        "func =  udf (lambda x: datetime.strptime(x, '%m/%d/%Y'), DateType())\n",
        "\n",
        "unionDF = unionDF.withColumn('Date', func(col('pickup_datetime')))\n",
        "\n",
        "unionDF.show()\n",
        "\n",
        "unionDF.printSchema()"
      ],
      "metadata": {
        "colab": {
          "base_uri": "https://localhost:8080/"
        },
        "id": "pkThDn4T3uom",
        "outputId": "ecd8996a-6bb8-497b-a93c-d789bf616356"
      },
      "execution_count": 14,
      "outputs": [
        {
          "output_type": "stream",
          "name": "stdout",
          "text": [
            "+---------------+----------------+---------------+----------+\n",
            "|pickup_datetime|pickup_longitude|pickup_latitude|      Date|\n",
            "+---------------+----------------+---------------+----------+\n",
            "|     01/01/2016|       -73.98174|       40.71916|2016-01-01|\n",
            "|     01/01/2016|      -73.985085|      40.747166|2016-01-01|\n",
            "|     01/01/2016|       -73.96528|       40.80104|2016-01-01|\n",
            "|     01/01/2016|       -73.98229|       40.75133|2016-01-01|\n",
            "|     01/01/2016|       -73.97011|        40.7598|2016-01-01|\n",
            "|     01/01/2016|      -73.973335|      40.764072|2016-01-01|\n",
            "|     01/01/2016|        -73.9931|      40.752632|2016-01-01|\n",
            "|     01/01/2016|       -73.98544|       40.73571|2016-01-01|\n",
            "|     01/01/2016|       -73.99374|       40.74176|2016-01-01|\n",
            "|     01/01/2016|       -73.97686|      40.683376|2016-01-01|\n",
            "|     01/01/2016|       -73.96979|      40.757584|2016-01-01|\n",
            "|     01/01/2016|       -73.99397|      40.740868|2016-01-01|\n",
            "|     01/01/2016|       -73.95951|       40.76281|2016-01-01|\n",
            "|     01/01/2016|       -73.99026|      40.737034|2016-01-01|\n",
            "|     01/01/2016|      -73.990135|       40.74885|2016-01-01|\n",
            "|     01/01/2016|       -74.00532|       40.72866|2016-01-01|\n",
            "|     01/01/2016|        -73.9358|       40.70731|2016-01-01|\n",
            "|     01/01/2016|       -73.99496|       40.74512|2016-01-01|\n",
            "|     01/01/2016|       -73.99046|      40.751007|2016-01-01|\n",
            "|     01/01/2016|       -73.95364|       40.77526|2016-01-01|\n",
            "+---------------+----------------+---------------+----------+\n",
            "only showing top 20 rows\n",
            "\n",
            "root\n",
            " |-- pickup_datetime: string (nullable = true)\n",
            " |-- pickup_longitude: float (nullable = true)\n",
            " |-- pickup_latitude: float (nullable = true)\n",
            " |-- Date: date (nullable = true)\n",
            "\n"
          ]
        }
      ]
    },
    {
      "cell_type": "code",
      "source": [
        "# Drop the datetime column of string type \n",
        "cols =['pickup_datetime']\n",
        "\n",
        "unionDF= unionDF.drop(*cols)"
      ],
      "metadata": {
        "id": "-HNpiUfAKggl"
      },
      "execution_count": 15,
      "outputs": []
    },
    {
      "cell_type": "code",
      "source": [
        "# Display clean dataframe\n",
        "\n",
        "unionDF.show()"
      ],
      "metadata": {
        "colab": {
          "base_uri": "https://localhost:8080/"
        },
        "id": "CKS8ekIgKgtU",
        "outputId": "efb2332f-8635-4c70-fece-443f61467730"
      },
      "execution_count": 16,
      "outputs": [
        {
          "output_type": "stream",
          "name": "stdout",
          "text": [
            "+----------------+---------------+----------+\n",
            "|pickup_longitude|pickup_latitude|      Date|\n",
            "+----------------+---------------+----------+\n",
            "|       -73.98174|       40.71916|2016-01-01|\n",
            "|      -73.985085|      40.747166|2016-01-01|\n",
            "|       -73.96528|       40.80104|2016-01-01|\n",
            "|       -73.98229|       40.75133|2016-01-01|\n",
            "|       -73.97011|        40.7598|2016-01-01|\n",
            "|      -73.973335|      40.764072|2016-01-01|\n",
            "|        -73.9931|      40.752632|2016-01-01|\n",
            "|       -73.98544|       40.73571|2016-01-01|\n",
            "|       -73.99374|       40.74176|2016-01-01|\n",
            "|       -73.97686|      40.683376|2016-01-01|\n",
            "|       -73.96979|      40.757584|2016-01-01|\n",
            "|       -73.99397|      40.740868|2016-01-01|\n",
            "|       -73.95951|       40.76281|2016-01-01|\n",
            "|       -73.99026|      40.737034|2016-01-01|\n",
            "|      -73.990135|       40.74885|2016-01-01|\n",
            "|       -74.00532|       40.72866|2016-01-01|\n",
            "|        -73.9358|       40.70731|2016-01-01|\n",
            "|       -73.99496|       40.74512|2016-01-01|\n",
            "|       -73.99046|      40.751007|2016-01-01|\n",
            "|       -73.95364|       40.77526|2016-01-01|\n",
            "+----------------+---------------+----------+\n",
            "only showing top 20 rows\n",
            "\n"
          ]
        }
      ]
    },
    {
      "cell_type": "code",
      "source": [
        "% pip install geopandas"
      ],
      "metadata": {
        "colab": {
          "base_uri": "https://localhost:8080/"
        },
        "id": "c9vcT7ngGZCk",
        "outputId": "5082e448-6e8f-410a-ae31-9a5fa1c4bd31"
      },
      "execution_count": 17,
      "outputs": [
        {
          "output_type": "stream",
          "name": "stdout",
          "text": [
            "Collecting geopandas\n",
            "  Downloading geopandas-0.10.2-py2.py3-none-any.whl (1.0 MB)\n",
            "\u001b[?25l\r\u001b[K     |▎                               | 10 kB 26.9 MB/s eta 0:00:01\r\u001b[K     |▋                               | 20 kB 23.9 MB/s eta 0:00:01\r\u001b[K     |█                               | 30 kB 20.2 MB/s eta 0:00:01\r\u001b[K     |█▎                              | 40 kB 8.9 MB/s eta 0:00:01\r\u001b[K     |█▋                              | 51 kB 8.8 MB/s eta 0:00:01\r\u001b[K     |██                              | 61 kB 10.3 MB/s eta 0:00:01\r\u001b[K     |██▎                             | 71 kB 9.4 MB/s eta 0:00:01\r\u001b[K     |██▌                             | 81 kB 9.4 MB/s eta 0:00:01\r\u001b[K     |██▉                             | 92 kB 10.4 MB/s eta 0:00:01\r\u001b[K     |███▏                            | 102 kB 9.0 MB/s eta 0:00:01\r\u001b[K     |███▌                            | 112 kB 9.0 MB/s eta 0:00:01\r\u001b[K     |███▉                            | 122 kB 9.0 MB/s eta 0:00:01\r\u001b[K     |████▏                           | 133 kB 9.0 MB/s eta 0:00:01\r\u001b[K     |████▌                           | 143 kB 9.0 MB/s eta 0:00:01\r\u001b[K     |████▊                           | 153 kB 9.0 MB/s eta 0:00:01\r\u001b[K     |█████                           | 163 kB 9.0 MB/s eta 0:00:01\r\u001b[K     |█████▍                          | 174 kB 9.0 MB/s eta 0:00:01\r\u001b[K     |█████▊                          | 184 kB 9.0 MB/s eta 0:00:01\r\u001b[K     |██████                          | 194 kB 9.0 MB/s eta 0:00:01\r\u001b[K     |██████▍                         | 204 kB 9.0 MB/s eta 0:00:01\r\u001b[K     |██████▊                         | 215 kB 9.0 MB/s eta 0:00:01\r\u001b[K     |███████                         | 225 kB 9.0 MB/s eta 0:00:01\r\u001b[K     |███████▎                        | 235 kB 9.0 MB/s eta 0:00:01\r\u001b[K     |███████▋                        | 245 kB 9.0 MB/s eta 0:00:01\r\u001b[K     |████████                        | 256 kB 9.0 MB/s eta 0:00:01\r\u001b[K     |████████▎                       | 266 kB 9.0 MB/s eta 0:00:01\r\u001b[K     |████████▋                       | 276 kB 9.0 MB/s eta 0:00:01\r\u001b[K     |█████████                       | 286 kB 9.0 MB/s eta 0:00:01\r\u001b[K     |█████████▏                      | 296 kB 9.0 MB/s eta 0:00:01\r\u001b[K     |█████████▌                      | 307 kB 9.0 MB/s eta 0:00:01\r\u001b[K     |█████████▉                      | 317 kB 9.0 MB/s eta 0:00:01\r\u001b[K     |██████████▏                     | 327 kB 9.0 MB/s eta 0:00:01\r\u001b[K     |██████████▌                     | 337 kB 9.0 MB/s eta 0:00:01\r\u001b[K     |██████████▉                     | 348 kB 9.0 MB/s eta 0:00:01\r\u001b[K     |███████████▏                    | 358 kB 9.0 MB/s eta 0:00:01\r\u001b[K     |███████████▍                    | 368 kB 9.0 MB/s eta 0:00:01\r\u001b[K     |███████████▊                    | 378 kB 9.0 MB/s eta 0:00:01\r\u001b[K     |████████████                    | 389 kB 9.0 MB/s eta 0:00:01\r\u001b[K     |████████████▍                   | 399 kB 9.0 MB/s eta 0:00:01\r\u001b[K     |████████████▊                   | 409 kB 9.0 MB/s eta 0:00:01\r\u001b[K     |█████████████                   | 419 kB 9.0 MB/s eta 0:00:01\r\u001b[K     |█████████████▍                  | 430 kB 9.0 MB/s eta 0:00:01\r\u001b[K     |█████████████▋                  | 440 kB 9.0 MB/s eta 0:00:01\r\u001b[K     |██████████████                  | 450 kB 9.0 MB/s eta 0:00:01\r\u001b[K     |██████████████▎                 | 460 kB 9.0 MB/s eta 0:00:01\r\u001b[K     |██████████████▋                 | 471 kB 9.0 MB/s eta 0:00:01\r\u001b[K     |███████████████                 | 481 kB 9.0 MB/s eta 0:00:01\r\u001b[K     |███████████████▎                | 491 kB 9.0 MB/s eta 0:00:01\r\u001b[K     |███████████████▋                | 501 kB 9.0 MB/s eta 0:00:01\r\u001b[K     |███████████████▉                | 512 kB 9.0 MB/s eta 0:00:01\r\u001b[K     |████████████████▏               | 522 kB 9.0 MB/s eta 0:00:01\r\u001b[K     |████████████████▌               | 532 kB 9.0 MB/s eta 0:00:01\r\u001b[K     |████████████████▉               | 542 kB 9.0 MB/s eta 0:00:01\r\u001b[K     |█████████████████▏              | 552 kB 9.0 MB/s eta 0:00:01\r\u001b[K     |█████████████████▌              | 563 kB 9.0 MB/s eta 0:00:01\r\u001b[K     |█████████████████▉              | 573 kB 9.0 MB/s eta 0:00:01\r\u001b[K     |██████████████████              | 583 kB 9.0 MB/s eta 0:00:01\r\u001b[K     |██████████████████▍             | 593 kB 9.0 MB/s eta 0:00:01\r\u001b[K     |██████████████████▊             | 604 kB 9.0 MB/s eta 0:00:01\r\u001b[K     |███████████████████             | 614 kB 9.0 MB/s eta 0:00:01\r\u001b[K     |███████████████████▍            | 624 kB 9.0 MB/s eta 0:00:01\r\u001b[K     |███████████████████▊            | 634 kB 9.0 MB/s eta 0:00:01\r\u001b[K     |████████████████████            | 645 kB 9.0 MB/s eta 0:00:01\r\u001b[K     |████████████████████▎           | 655 kB 9.0 MB/s eta 0:00:01\r\u001b[K     |████████████████████▋           | 665 kB 9.0 MB/s eta 0:00:01\r\u001b[K     |█████████████████████           | 675 kB 9.0 MB/s eta 0:00:01\r\u001b[K     |█████████████████████▎          | 686 kB 9.0 MB/s eta 0:00:01\r\u001b[K     |█████████████████████▋          | 696 kB 9.0 MB/s eta 0:00:01\r\u001b[K     |██████████████████████          | 706 kB 9.0 MB/s eta 0:00:01\r\u001b[K     |██████████████████████▎         | 716 kB 9.0 MB/s eta 0:00:01\r\u001b[K     |██████████████████████▋         | 727 kB 9.0 MB/s eta 0:00:01\r\u001b[K     |██████████████████████▉         | 737 kB 9.0 MB/s eta 0:00:01\r\u001b[K     |███████████████████████▏        | 747 kB 9.0 MB/s eta 0:00:01\r\u001b[K     |███████████████████████▌        | 757 kB 9.0 MB/s eta 0:00:01\r\u001b[K     |███████████████████████▉        | 768 kB 9.0 MB/s eta 0:00:01\r\u001b[K     |████████████████████████▏       | 778 kB 9.0 MB/s eta 0:00:01\r\u001b[K     |████████████████████████▌       | 788 kB 9.0 MB/s eta 0:00:01\r\u001b[K     |████████████████████████▉       | 798 kB 9.0 MB/s eta 0:00:01\r\u001b[K     |█████████████████████████       | 808 kB 9.0 MB/s eta 0:00:01\r\u001b[K     |█████████████████████████▍      | 819 kB 9.0 MB/s eta 0:00:01\r\u001b[K     |█████████████████████████▊      | 829 kB 9.0 MB/s eta 0:00:01\r\u001b[K     |██████████████████████████      | 839 kB 9.0 MB/s eta 0:00:01\r\u001b[K     |██████████████████████████▍     | 849 kB 9.0 MB/s eta 0:00:01\r\u001b[K     |██████████████████████████▊     | 860 kB 9.0 MB/s eta 0:00:01\r\u001b[K     |███████████████████████████     | 870 kB 9.0 MB/s eta 0:00:01\r\u001b[K     |███████████████████████████▎    | 880 kB 9.0 MB/s eta 0:00:01\r\u001b[K     |███████████████████████████▋    | 890 kB 9.0 MB/s eta 0:00:01\r\u001b[K     |████████████████████████████    | 901 kB 9.0 MB/s eta 0:00:01\r\u001b[K     |████████████████████████████▎   | 911 kB 9.0 MB/s eta 0:00:01\r\u001b[K     |████████████████████████████▋   | 921 kB 9.0 MB/s eta 0:00:01\r\u001b[K     |█████████████████████████████   | 931 kB 9.0 MB/s eta 0:00:01\r\u001b[K     |█████████████████████████████▎  | 942 kB 9.0 MB/s eta 0:00:01\r\u001b[K     |█████████████████████████████▌  | 952 kB 9.0 MB/s eta 0:00:01\r\u001b[K     |█████████████████████████████▉  | 962 kB 9.0 MB/s eta 0:00:01\r\u001b[K     |██████████████████████████████▏ | 972 kB 9.0 MB/s eta 0:00:01\r\u001b[K     |██████████████████████████████▌ | 983 kB 9.0 MB/s eta 0:00:01\r\u001b[K     |██████████████████████████████▉ | 993 kB 9.0 MB/s eta 0:00:01\r\u001b[K     |███████████████████████████████▏| 1.0 MB 9.0 MB/s eta 0:00:01\r\u001b[K     |███████████████████████████████▌| 1.0 MB 9.0 MB/s eta 0:00:01\r\u001b[K     |███████████████████████████████▊| 1.0 MB 9.0 MB/s eta 0:00:01\r\u001b[K     |████████████████████████████████| 1.0 MB 9.0 MB/s \n",
            "\u001b[?25hRequirement already satisfied: shapely>=1.6 in /usr/local/lib/python3.7/dist-packages (from geopandas) (1.8.1.post1)\n",
            "Requirement already satisfied: pandas>=0.25.0 in /usr/local/lib/python3.7/dist-packages (from geopandas) (1.3.5)\n",
            "Collecting fiona>=1.8\n",
            "  Downloading Fiona-1.8.21-cp37-cp37m-manylinux2014_x86_64.whl (16.7 MB)\n",
            "\u001b[K     |████████████████████████████████| 16.7 MB 47.3 MB/s \n",
            "\u001b[?25hCollecting pyproj>=2.2.0\n",
            "  Downloading pyproj-3.2.1-cp37-cp37m-manylinux2010_x86_64.whl (6.3 MB)\n",
            "\u001b[K     |████████████████████████████████| 6.3 MB 49.6 MB/s \n",
            "\u001b[?25hRequirement already satisfied: six>=1.7 in /usr/local/lib/python3.7/dist-packages (from fiona>=1.8->geopandas) (1.15.0)\n",
            "Requirement already satisfied: certifi in /usr/local/lib/python3.7/dist-packages (from fiona>=1.8->geopandas) (2021.10.8)\n",
            "Collecting click-plugins>=1.0\n",
            "  Downloading click_plugins-1.1.1-py2.py3-none-any.whl (7.5 kB)\n",
            "Collecting munch\n",
            "  Downloading munch-2.5.0-py2.py3-none-any.whl (10 kB)\n",
            "Requirement already satisfied: click>=4.0 in /usr/local/lib/python3.7/dist-packages (from fiona>=1.8->geopandas) (7.1.2)\n",
            "Requirement already satisfied: setuptools in /usr/local/lib/python3.7/dist-packages (from fiona>=1.8->geopandas) (57.4.0)\n",
            "Collecting cligj>=0.5\n",
            "  Downloading cligj-0.7.2-py3-none-any.whl (7.1 kB)\n",
            "Requirement already satisfied: attrs>=17 in /usr/local/lib/python3.7/dist-packages (from fiona>=1.8->geopandas) (21.4.0)\n",
            "Requirement already satisfied: python-dateutil>=2.7.3 in /usr/local/lib/python3.7/dist-packages (from pandas>=0.25.0->geopandas) (2.8.2)\n",
            "Requirement already satisfied: pytz>=2017.3 in /usr/local/lib/python3.7/dist-packages (from pandas>=0.25.0->geopandas) (2018.9)\n",
            "Requirement already satisfied: numpy>=1.17.3 in /usr/local/lib/python3.7/dist-packages (from pandas>=0.25.0->geopandas) (1.21.5)\n",
            "Installing collected packages: munch, cligj, click-plugins, pyproj, fiona, geopandas\n",
            "Successfully installed click-plugins-1.1.1 cligj-0.7.2 fiona-1.8.21 geopandas-0.10.2 munch-2.5.0 pyproj-3.2.1\n"
          ]
        }
      ]
    },
    {
      "cell_type": "code",
      "source": [
        "import geopandas as gpd\n",
        "df = gpd.read_file('/content/drive/MyDrive/data/2010NeighborhoodTabulationAreas.geojson')"
      ],
      "metadata": {
        "id": "GuqbGin_EO-f"
      },
      "execution_count": 18,
      "outputs": []
    },
    {
      "cell_type": "code",
      "source": [
        "\n",
        "df.plot(column='boro_name', categorical=True, legend=True)\n",
        "df.count()\n"
      ],
      "metadata": {
        "colab": {
          "base_uri": "https://localhost:8080/",
          "height": 1000
        },
        "id": "csZOAnEZFL1x",
        "outputId": "272120f4-1c1a-410b-c308-864441f2c1a6"
      },
      "execution_count": 77,
      "outputs": [
        {
          "output_type": "execute_result",
          "data": {
            "text/plain": [
              "ntacode        195\n",
              "shape_area     195\n",
              "county_fips    195\n",
              "ntaname        195\n",
              "shape_leng     195\n",
              "boro_name      195\n",
              "boro_code      195\n",
              "geometry       195\n",
              "dtype: int64"
            ]
          },
          "metadata": {},
          "execution_count": 77
        },
        {
          "output_type": "display_data",
          "data": {
            "text/plain": [
              "<Figure size 1152x1440 with 1 Axes>"
            ],
            "image/png": "[encoded data removed]"
          },
          "metadata": {}
        }
      ]
    },
    {
      "cell_type": "code",
      "source": [
        "# This is the value of the geopandas dataframe\n",
        "df"
      ],
      "metadata": {
        "colab": {
          "base_uri": "https://localhost:8080/",
          "height": 20112
        },
        "id": "U1hhxTfNG5Wn",
        "outputId": "1fb21959-d43b-4e60-988e-83fed221c4fe"
      },
      "execution_count": 20,
      "outputs": [
        {
          "output_type": "execute_result",
          "data": {
            "text/plain": [
              "    ntacode     shape_area county_fips                           ntaname  \\\n",
              "0      QN51  52488277.4492         081                       Murray Hill   \n",
              "1      QN27   19726845.734         081                     East Elmhurst   \n",
              "2      QN41  27774853.5522         081              Fresh Meadows-Utopia   \n",
              "3      QN08  77412747.8943         081                        St. Albans   \n",
              "4      BK69  20528197.0269         047                      Clinton Hill   \n",
              "..      ...            ...         ...                               ...   \n",
              "190    BX27  49692926.0514         005                       Hunts Point   \n",
              "191    BX39  41898929.8816         005            Mott Haven-Port Morris   \n",
              "192    MN34  24494900.5685         061                 East Harlem North   \n",
              "193    BX14  18221640.2327         005  East Concourse-Concourse Village   \n",
              "194    BX34  17271763.8139         005    Melrose South-Mott Haven North   \n",
              "\n",
              "        shape_leng  boro_name boro_code  \\\n",
              "0    33266.9048559     Queens         4   \n",
              "1    19816.7117581     Queens         4   \n",
              "2    22106.4312724     Queens         4   \n",
              "3    45401.3167856     Queens         4   \n",
              "4    23971.4662361   Brooklyn         3   \n",
              "..             ...        ...       ...   \n",
              "190  43702.2160145      Bronx         2   \n",
              "191  35604.9726086      Bronx         2   \n",
              "192  30603.7155941  Manhattan         1   \n",
              "193  27199.9115779      Bronx         2   \n",
              "194  19589.1955773      Bronx         2   \n",
              "\n",
              "                                              geometry  \n",
              "0    MULTIPOLYGON (((-73.80379 40.77561, -73.80099 ...  \n",
              "1    MULTIPOLYGON (((-73.86110 40.76366, -73.85993 ...  \n",
              "2    MULTIPOLYGON (((-73.77758 40.73019, -73.77849 ...  \n",
              "3    MULTIPOLYGON (((-73.75205 40.70523, -73.75174 ...  \n",
              "4    MULTIPOLYGON (((-73.95337 40.68064, -73.95328 ...  \n",
              "..                                                 ...  \n",
              "190  MULTIPOLYGON (((-73.88439 40.82295, -73.88436 ...  \n",
              "191  MULTIPOLYGON (((-73.89681 40.79581, -73.89694 ...  \n",
              "192  MULTIPOLYGON (((-73.92719 40.79735, -73.92735 ...  \n",
              "193  MULTIPOLYGON (((-73.90959 40.84276, -73.90962 ...  \n",
              "194  MULTIPOLYGON (((-73.90129 40.82048, -73.90160 ...  \n",
              "\n",
              "[195 rows x 8 columns]"
            ],
            "text/html": [
              "\n",
              "  <div id=\"df-bd5bcdfa-3241-445b-a1e1-51c96586c40d\">\n",
              "    <div class=\"colab-df-container\">\n",
              "      <div>\n",
              "<style scoped>\n",
              "    .dataframe tbody tr th:only-of-type {\n",
              "        vertical-align: middle;\n",
              "    }\n",
              "\n",
              "    .dataframe tbody tr th {\n",
              "        vertical-align: top;\n",
              "    }\n",
              "\n",
              "    .dataframe thead th {\n",
              "        text-align: right;\n",
              "    }\n",
              "</style>\n",
              "<table border=\"1\" class=\"dataframe\">\n",
              "  <thead>\n",
              "    <tr style=\"text-align: right;\">\n",
              "      <th></th>\n",
              "      <th>ntacode</th>\n",
              "      <th>shape_area</th>\n",
              "      <th>county_fips</th>\n",
              "      <th>ntaname</th>\n",
              "      <th>shape_leng</th>\n",
              "      <th>boro_name</th>\n",
              "      <th>boro_code</th>\n",
              "      <th>geometry</th>\n",
              "    </tr>\n",
              "  </thead>\n",
              "  <tbody>\n",
              "    <tr>\n",
              "      <th>0</th>\n",
              "      <td>QN51</td>\n",
              "      <td>52488277.4492</td>\n",
              "      <td>081</td>\n",
              "      <td>Murray Hill</td>\n",
              "      <td>33266.9048559</td>\n",
              "      <td>Queens</td>\n",
              "      <td>4</td>\n",
              "      <td>MULTIPOLYGON (((-73.80379 40.77561, -73.80099 ...</td>\n",
              "    </tr>\n",
              "    <tr>\n",
              "      <th>1</th>\n",
              "      <td>QN27</td>\n",
              "      <td>19726845.734</td>\n",
              "      <td>081</td>\n",
              "      <td>East Elmhurst</td>\n",
              "      <td>19816.7117581</td>\n",
              "      <td>Queens</td>\n",
              "      <td>4</td>\n",
              "      <td>MULTIPOLYGON (((-73.86110 40.76366, -73.85993 ...</td>\n",
              "    </tr>\n",
              "    <tr>\n",
              "      <th>2</th>\n",
              "      <td>QN41</td>\n",
              "      <td>27774853.5522</td>\n",
              "      <td>081</td>\n",
              "      <td>Fresh Meadows-Utopia</td>\n",
              "      <td>22106.4312724</td>\n",
              "      <td>Queens</td>\n",
              "      <td>4</td>\n",
              "      <td>MULTIPOLYGON (((-73.77758 40.73019, -73.77849 ...</td>\n",
              "    </tr>\n",
              "    <tr>\n",
              "      <th>3</th>\n",
              "      <td>QN08</td>\n",
              "      <td>77412747.8943</td>\n",
              "      <td>081</td>\n",
              "      <td>St. Albans</td>\n",
              "      <td>45401.3167856</td>\n",
              "      <td>Queens</td>\n",
              "      <td>4</td>\n",
              "      <td>MULTIPOLYGON (((-73.75205 40.70523, -73.75174 ...</td>\n",
              "    </tr>\n",
              "    <tr>\n",
              "      <th>4</th>\n",
              "      <td>BK69</td>\n",
              "      <td>20528197.0269</td>\n",
              "      <td>047</td>\n",
              "      <td>Clinton Hill</td>\n",
              "      <td>23971.4662361</td>\n",
              "      <td>Brooklyn</td>\n",
              "      <td>3</td>\n",
              "      <td>MULTIPOLYGON (((-73.95337 40.68064, -73.95328 ...</td>\n",
              "    </tr>\n",
              "    <tr>\n",
              "      <th>...</th>\n",
              "      <td>...</td>\n",
              "      <td>...</td>\n",
              "      <td>...</td>\n",
              "      <td>...</td>\n",
              "      <td>...</td>\n",
              "      <td>...</td>\n",
              "      <td>...</td>\n",
              "      <td>...</td>\n",
              "    </tr>\n",
              "    <tr>\n",
              "      <th>190</th>\n",
              "      <td>BX27</td>\n",
              "      <td>49692926.0514</td>\n",
              "      <td>005</td>\n",
              "      <td>Hunts Point</td>\n",
              "      <td>43702.2160145</td>\n",
              "      <td>Bronx</td>\n",
              "      <td>2</td>\n",
              "      <td>MULTIPOLYGON (((-73.88439 40.82295, -73.88436 ...</td>\n",
              "    </tr>\n",
              "    <tr>\n",
              "      <th>191</th>\n",
              "      <td>BX39</td>\n",
              "      <td>41898929.8816</td>\n",
              "      <td>005</td>\n",
              "      <td>Mott Haven-Port Morris</td>\n",
              "      <td>35604.9726086</td>\n",
              "      <td>Bronx</td>\n",
              "      <td>2</td>\n",
              "      <td>MULTIPOLYGON (((-73.89681 40.79581, -73.89694 ...</td>\n",
              "    </tr>\n",
              "    <tr>\n",
              "      <th>192</th>\n",
              "      <td>MN34</td>\n",
              "      <td>24494900.5685</td>\n",
              "      <td>061</td>\n",
              "      <td>East Harlem North</td>\n",
              "      <td>30603.7155941</td>\n",
              "      <td>Manhattan</td>\n",
              "      <td>1</td>\n",
              "      <td>MULTIPOLYGON (((-73.92719 40.79735, -73.92735 ...</td>\n",
              "    </tr>\n",
              "    <tr>\n",
              "      <th>193</th>\n",
              "      <td>BX14</td>\n",
              "      <td>18221640.2327</td>\n",
              "      <td>005</td>\n",
              "      <td>East Concourse-Concourse Village</td>\n",
              "      <td>27199.9115779</td>\n",
              "      <td>Bronx</td>\n",
              "      <td>2</td>\n",
              "      <td>MULTIPOLYGON (((-73.90959 40.84276, -73.90962 ...</td>\n",
              "    </tr>\n",
              "    <tr>\n",
              "      <th>194</th>\n",
              "      <td>BX34</td>\n",
              "      <td>17271763.8139</td>\n",
              "      <td>005</td>\n",
              "      <td>Melrose South-Mott Haven North</td>\n",
              "      <td>19589.1955773</td>\n",
              "      <td>Bronx</td>\n",
              "      <td>2</td>\n",
              "      <td>MULTIPOLYGON (((-73.90129 40.82048, -73.90160 ...</td>\n",
              "    </tr>\n",
              "  </tbody>\n",
              "</table>\n",
              "<p>195 rows × 8 columns</p>\n",
              "</div>\n",
              "      <button class=\"colab-df-convert\" onclick=\"convertToInteractive('df-bd5bcdfa-3241-445b-a1e1-51c96586c40d')\"\n",
              "              title=\"Convert this dataframe to an interactive table.\"\n",
              "              style=\"display:none;\">\n",
              "        \n",
              "  <svg xmlns=\"http://www.w3.org/2000/svg\" height=\"24px\"viewBox=\"0 0 24 24\"\n",
              "       width=\"24px\">\n",
              "    <path d=\"M0 0h24v24H0V0z\" fill=\"none\"/>\n",
              "    <path d=\"M18.56 5.44l.94 2.06.94-2.06 2.06-.94-2.06-.94-.94-2.06-.94 2.06-2.06.94zm-11 1L8.5 8.5l.94-2.06 2.06-.94-2.06-.94L8.5 2.5l-.94 2.06-2.06.94zm10 10l.94 2.06.94-2.06 2.06-.94-2.06-.94-.94-2.06-.94 2.06-2.06.94z\"/><path d=\"M17.41 7.96l-1.37-1.37c-.4-.4-.92-.59-1.43-.59-.52 0-1.04.2-1.43.59L10.3 9.45l-7.72 7.72c-.78.78-.78 2.05 0 2.83L4 21.41c.39.39.9.59 1.41.59.51 0 1.02-.2 1.41-.59l7.78-7.78 2.81-2.81c.8-.78.8-2.07 0-2.86zM5.41 20L4 18.59l7.72-7.72 1.47 1.35L5.41 20z\"/>\n",
              "  </svg>\n",
              "      </button>\n",
              "      \n",
              "  <style>\n",
              "    .colab-df-container {\n",
              "      display:flex;\n",
              "      flex-wrap:wrap;\n",
              "      gap: 12px;\n",
              "    }\n",
              "\n",
              "    .colab-df-convert {\n",
              "      background-color: #E8F0FE;\n",
              "      border: none;\n",
              "      border-radius: 50%;\n",
              "      cursor: pointer;\n",
              "      display: none;\n",
              "      fill: #1967D2;\n",
              "      height: 32px;\n",
              "      padding: 0 0 0 0;\n",
              "      width: 32px;\n",
              "    }\n",
              "\n",
              "    .colab-df-convert:hover {\n",
              "      background-color: #E2EBFA;\n",
              "      box-shadow: 0px 1px 2px rgba(60, 64, 67, 0.3), 0px 1px 3px 1px rgba(60, 64, 67, 0.15);\n",
              "      fill: #174EA6;\n",
              "    }\n",
              "\n",
              "    [theme=dark] .colab-df-convert {\n",
              "      background-color: #3B4455;\n",
              "      fill: #D2E3FC;\n",
              "    }\n",
              "\n",
              "    [theme=dark] .colab-df-convert:hover {\n",
              "      background-color: #434B5C;\n",
              "      box-shadow: 0px 1px 3px 1px rgba(0, 0, 0, 0.15);\n",
              "      filter: drop-shadow(0px 1px 2px rgba(0, 0, 0, 0.3));\n",
              "      fill: #FFFFFF;\n",
              "    }\n",
              "  </style>\n",
              "\n",
              "      <script>\n",
              "        const buttonEl =\n",
              "          document.querySelector('#df-bd5bcdfa-3241-445b-a1e1-51c96586c40d button.colab-df-convert');\n",
              "        buttonEl.style.display =\n",
              "          google.colab.kernel.accessAllowed ? 'block' : 'none';\n",
              "\n",
              "        async function convertToInteractive(key) {\n",
              "          const element = document.querySelector('#df-bd5bcdfa-3241-445b-a1e1-51c96586c40d');\n",
              "          const dataTable =\n",
              "            await google.colab.kernel.invokeFunction('convertToInteractive',\n",
              "                                                     [key], {});\n",
              "          if (!dataTable) return;\n",
              "\n",
              "          const docLinkHtml = 'Like what you see? Visit the ' +\n",
              "            '<a target=\"_blank\" href=https://colab.research.google.com/notebooks/data_table.ipynb>data table notebook</a>'\n",
              "            + ' to learn more about interactive tables.';\n",
              "          element.innerHTML = '';\n",
              "          dataTable['output_type'] = 'display_data';\n",
              "          await google.colab.output.renderOutput(dataTable, element);\n",
              "          const docLink = document.createElement('div');\n",
              "          docLink.innerHTML = docLinkHtml;\n",
              "          element.appendChild(docLink);\n",
              "        }\n",
              "      </script>\n",
              "    </div>\n",
              "  </div>\n",
              "  "
            ]
          },
          "metadata": {},
          "execution_count": 20
        }
      ]
    },
    {
      "cell_type": "code",
      "source": [
        "# This step was done to convert the multipolyhgon field into polygon\n",
        "exploded = df.explode(index_parts=True)\n",
        "exploded\n"
      ],
      "metadata": {
        "colab": {
          "base_uri": "https://localhost:8080/",
          "height": 423
        },
        "id": "13SZFRpTJ56K",
        "outputId": "41d98513-0ed5-40f5-ec55-d4088f8764e2"
      },
      "execution_count": 64,
      "outputs": [
        {
          "output_type": "execute_result",
          "data": {
            "text/plain": [
              "      ntacode     shape_area county_fips                           ntaname  \\\n",
              "0   0    QN51  52488277.4492         081                       Murray Hill   \n",
              "1   0    QN27   19726845.734         081                     East Elmhurst   \n",
              "2   0    QN41  27774853.5522         081              Fresh Meadows-Utopia   \n",
              "3   0    QN08  77412747.8943         081                        St. Albans   \n",
              "4   0    BK69  20528197.0269         047                      Clinton Hill   \n",
              "...       ...            ...         ...                               ...   \n",
              "192 2    MN34  24494900.5685         061                 East Harlem North   \n",
              "    3    MN34  24494900.5685         061                 East Harlem North   \n",
              "    4    MN34  24494900.5685         061                 East Harlem North   \n",
              "193 0    BX14  18221640.2327         005  East Concourse-Concourse Village   \n",
              "194 0    BX34  17271763.8139         005    Melrose South-Mott Haven North   \n",
              "\n",
              "          shape_leng  boro_name boro_code  \\\n",
              "0   0  33266.9048559     Queens         4   \n",
              "1   0  19816.7117581     Queens         4   \n",
              "2   0  22106.4312724     Queens         4   \n",
              "3   0  45401.3167856     Queens         4   \n",
              "4   0  23971.4662361   Brooklyn         3   \n",
              "...              ...        ...       ...   \n",
              "192 2  30603.7155941  Manhattan         1   \n",
              "    3  30603.7155941  Manhattan         1   \n",
              "    4  30603.7155941  Manhattan         1   \n",
              "193 0  27199.9115779      Bronx         2   \n",
              "194 0  19589.1955773      Bronx         2   \n",
              "\n",
              "                                                geometry  \n",
              "0   0  POLYGON ((-73.80379 40.77561, -73.80099 40.775...  \n",
              "1   0  POLYGON ((-73.86110 40.76366, -73.85993 40.762...  \n",
              "2   0  POLYGON ((-73.77758 40.73019, -73.77849 40.729...  \n",
              "3   0  POLYGON ((-73.75205 40.70523, -73.75174 40.704...  \n",
              "4   0  POLYGON ((-73.95337 40.68064, -73.95328 40.680...  \n",
              "...                                                  ...  \n",
              "192 2  POLYGON ((-73.92667 40.80018, -73.92670 40.800...  \n",
              "    3  POLYGON ((-73.92689 40.80084, -73.92651 40.800...  \n",
              "    4  POLYGON ((-73.93381 40.81651, -73.93383 40.815...  \n",
              "193 0  POLYGON ((-73.90959 40.84276, -73.90962 40.842...  \n",
              "194 0  POLYGON ((-73.90129 40.82048, -73.90160 40.819...  \n",
              "\n",
              "[368 rows x 8 columns]"
            ],
            "text/html": [
              "\n",
              "  <div id=\"df-8c84b766-6a14-4572-b3d2-ad8f5d1badb8\">\n",
              "    <div class=\"colab-df-container\">\n",
              "      <div>\n",
              "<style scoped>\n",
              "    .dataframe tbody tr th:only-of-type {\n",
              "        vertical-align: middle;\n",
              "    }\n",
              "\n",
              "    .dataframe tbody tr th {\n",
              "        vertical-align: top;\n",
              "    }\n",
              "\n",
              "    .dataframe thead th {\n",
              "        text-align: right;\n",
              "    }\n",
              "</style>\n",
              "<table border=\"1\" class=\"dataframe\">\n",
              "  <thead>\n",
              "    <tr style=\"text-align: right;\">\n",
              "      <th></th>\n",
              "      <th></th>\n",
              "      <th>ntacode</th>\n",
              "      <th>shape_area</th>\n",
              "      <th>county_fips</th>\n",
              "      <th>ntaname</th>\n",
              "      <th>shape_leng</th>\n",
              "      <th>boro_name</th>\n",
              "      <th>boro_code</th>\n",
              "      <th>geometry</th>\n",
              "    </tr>\n",
              "  </thead>\n",
              "  <tbody>\n",
              "    <tr>\n",
              "      <th>0</th>\n",
              "      <th>0</th>\n",
              "      <td>QN51</td>\n",
              "      <td>52488277.4492</td>\n",
              "      <td>081</td>\n",
              "      <td>Murray Hill</td>\n",
              "      <td>33266.9048559</td>\n",
              "      <td>Queens</td>\n",
              "      <td>4</td>\n",
              "      <td>POLYGON ((-73.80379 40.77561, -73.80099 40.775...</td>\n",
              "    </tr>\n",
              "    <tr>\n",
              "      <th>1</th>\n",
              "      <th>0</th>\n",
              "      <td>QN27</td>\n",
              "      <td>19726845.734</td>\n",
              "      <td>081</td>\n",
              "      <td>East Elmhurst</td>\n",
              "      <td>19816.7117581</td>\n",
              "      <td>Queens</td>\n",
              "      <td>4</td>\n",
              "      <td>POLYGON ((-73.86110 40.76366, -73.85993 40.762...</td>\n",
              "    </tr>\n",
              "    <tr>\n",
              "      <th>2</th>\n",
              "      <th>0</th>\n",
              "      <td>QN41</td>\n",
              "      <td>27774853.5522</td>\n",
              "      <td>081</td>\n",
              "      <td>Fresh Meadows-Utopia</td>\n",
              "      <td>22106.4312724</td>\n",
              "      <td>Queens</td>\n",
              "      <td>4</td>\n",
              "      <td>POLYGON ((-73.77758 40.73019, -73.77849 40.729...</td>\n",
              "    </tr>\n",
              "    <tr>\n",
              "      <th>3</th>\n",
              "      <th>0</th>\n",
              "      <td>QN08</td>\n",
              "      <td>77412747.8943</td>\n",
              "      <td>081</td>\n",
              "      <td>St. Albans</td>\n",
              "      <td>45401.3167856</td>\n",
              "      <td>Queens</td>\n",
              "      <td>4</td>\n",
              "      <td>POLYGON ((-73.75205 40.70523, -73.75174 40.704...</td>\n",
              "    </tr>\n",
              "    <tr>\n",
              "      <th>4</th>\n",
              "      <th>0</th>\n",
              "      <td>BK69</td>\n",
              "      <td>20528197.0269</td>\n",
              "      <td>047</td>\n",
              "      <td>Clinton Hill</td>\n",
              "      <td>23971.4662361</td>\n",
              "      <td>Brooklyn</td>\n",
              "      <td>3</td>\n",
              "      <td>POLYGON ((-73.95337 40.68064, -73.95328 40.680...</td>\n",
              "    </tr>\n",
              "    <tr>\n",
              "      <th>...</th>\n",
              "      <th>...</th>\n",
              "      <td>...</td>\n",
              "      <td>...</td>\n",
              "      <td>...</td>\n",
              "      <td>...</td>\n",
              "      <td>...</td>\n",
              "      <td>...</td>\n",
              "      <td>...</td>\n",
              "      <td>...</td>\n",
              "    </tr>\n",
              "    <tr>\n",
              "      <th rowspan=\"3\" valign=\"top\">192</th>\n",
              "      <th>2</th>\n",
              "      <td>MN34</td>\n",
              "      <td>24494900.5685</td>\n",
              "      <td>061</td>\n",
              "      <td>East Harlem North</td>\n",
              "      <td>30603.7155941</td>\n",
              "      <td>Manhattan</td>\n",
              "      <td>1</td>\n",
              "      <td>POLYGON ((-73.92667 40.80018, -73.92670 40.800...</td>\n",
              "    </tr>\n",
              "    <tr>\n",
              "      <th>3</th>\n",
              "      <td>MN34</td>\n",
              "      <td>24494900.5685</td>\n",
              "      <td>061</td>\n",
              "      <td>East Harlem North</td>\n",
              "      <td>30603.7155941</td>\n",
              "      <td>Manhattan</td>\n",
              "      <td>1</td>\n",
              "      <td>POLYGON ((-73.92689 40.80084, -73.92651 40.800...</td>\n",
              "    </tr>\n",
              "    <tr>\n",
              "      <th>4</th>\n",
              "      <td>MN34</td>\n",
              "      <td>24494900.5685</td>\n",
              "      <td>061</td>\n",
              "      <td>East Harlem North</td>\n",
              "      <td>30603.7155941</td>\n",
              "      <td>Manhattan</td>\n",
              "      <td>1</td>\n",
              "      <td>POLYGON ((-73.93381 40.81651, -73.93383 40.815...</td>\n",
              "    </tr>\n",
              "    <tr>\n",
              "      <th>193</th>\n",
              "      <th>0</th>\n",
              "      <td>BX14</td>\n",
              "      <td>18221640.2327</td>\n",
              "      <td>005</td>\n",
              "      <td>East Concourse-Concourse Village</td>\n",
              "      <td>27199.9115779</td>\n",
              "      <td>Bronx</td>\n",
              "      <td>2</td>\n",
              "      <td>POLYGON ((-73.90959 40.84276, -73.90962 40.842...</td>\n",
              "    </tr>\n",
              "    <tr>\n",
              "      <th>194</th>\n",
              "      <th>0</th>\n",
              "      <td>BX34</td>\n",
              "      <td>17271763.8139</td>\n",
              "      <td>005</td>\n",
              "      <td>Melrose South-Mott Haven North</td>\n",
              "      <td>19589.1955773</td>\n",
              "      <td>Bronx</td>\n",
              "      <td>2</td>\n",
              "      <td>POLYGON ((-73.90129 40.82048, -73.90160 40.819...</td>\n",
              "    </tr>\n",
              "  </tbody>\n",
              "</table>\n",
              "<p>368 rows × 8 columns</p>\n",
              "</div>\n",
              "      <button class=\"colab-df-convert\" onclick=\"convertToInteractive('df-8c84b766-6a14-4572-b3d2-ad8f5d1badb8')\"\n",
              "              title=\"Convert this dataframe to an interactive table.\"\n",
              "              style=\"display:none;\">\n",
              "        \n",
              "  <svg xmlns=\"http://www.w3.org/2000/svg\" height=\"24px\"viewBox=\"0 0 24 24\"\n",
              "       width=\"24px\">\n",
              "    <path d=\"M0 0h24v24H0V0z\" fill=\"none\"/>\n",
              "    <path d=\"M18.56 5.44l.94 2.06.94-2.06 2.06-.94-2.06-.94-.94-2.06-.94 2.06-2.06.94zm-11 1L8.5 8.5l.94-2.06 2.06-.94-2.06-.94L8.5 2.5l-.94 2.06-2.06.94zm10 10l.94 2.06.94-2.06 2.06-.94-2.06-.94-.94-2.06-.94 2.06-2.06.94z\"/><path d=\"M17.41 7.96l-1.37-1.37c-.4-.4-.92-.59-1.43-.59-.52 0-1.04.2-1.43.59L10.3 9.45l-7.72 7.72c-.78.78-.78 2.05 0 2.83L4 21.41c.39.39.9.59 1.41.59.51 0 1.02-.2 1.41-.59l7.78-7.78 2.81-2.81c.8-.78.8-2.07 0-2.86zM5.41 20L4 18.59l7.72-7.72 1.47 1.35L5.41 20z\"/>\n",
              "  </svg>\n",
              "      </button>\n",
              "      \n",
              "  <style>\n",
              "    .colab-df-container {\n",
              "      display:flex;\n",
              "      flex-wrap:wrap;\n",
              "      gap: 12px;\n",
              "    }\n",
              "\n",
              "    .colab-df-convert {\n",
              "      background-color: #E8F0FE;\n",
              "      border: none;\n",
              "      border-radius: 50%;\n",
              "      cursor: pointer;\n",
              "      display: none;\n",
              "      fill: #1967D2;\n",
              "      height: 32px;\n",
              "      padding: 0 0 0 0;\n",
              "      width: 32px;\n",
              "    }\n",
              "\n",
              "    .colab-df-convert:hover {\n",
              "      background-color: #E2EBFA;\n",
              "      box-shadow: 0px 1px 2px rgba(60, 64, 67, 0.3), 0px 1px 3px 1px rgba(60, 64, 67, 0.15);\n",
              "      fill: #174EA6;\n",
              "    }\n",
              "\n",
              "    [theme=dark] .colab-df-convert {\n",
              "      background-color: #3B4455;\n",
              "      fill: #D2E3FC;\n",
              "    }\n",
              "\n",
              "    [theme=dark] .colab-df-convert:hover {\n",
              "      background-color: #434B5C;\n",
              "      box-shadow: 0px 1px 3px 1px rgba(0, 0, 0, 0.15);\n",
              "      filter: drop-shadow(0px 1px 2px rgba(0, 0, 0, 0.3));\n",
              "      fill: #FFFFFF;\n",
              "    }\n",
              "  </style>\n",
              "\n",
              "      <script>\n",
              "        const buttonEl =\n",
              "          document.querySelector('#df-8c84b766-6a14-4572-b3d2-ad8f5d1badb8 button.colab-df-convert');\n",
              "        buttonEl.style.display =\n",
              "          google.colab.kernel.accessAllowed ? 'block' : 'none';\n",
              "\n",
              "        async function convertToInteractive(key) {\n",
              "          const element = document.querySelector('#df-8c84b766-6a14-4572-b3d2-ad8f5d1badb8');\n",
              "          const dataTable =\n",
              "            await google.colab.kernel.invokeFunction('convertToInteractive',\n",
              "                                                     [key], {});\n",
              "          if (!dataTable) return;\n",
              "\n",
              "          const docLinkHtml = 'Like what you see? Visit the ' +\n",
              "            '<a target=\"_blank\" href=https://colab.research.google.com/notebooks/data_table.ipynb>data table notebook</a>'\n",
              "            + ' to learn more about interactive tables.';\n",
              "          element.innerHTML = '';\n",
              "          dataTable['output_type'] = 'display_data';\n",
              "          await google.colab.output.renderOutput(dataTable, element);\n",
              "          const docLink = document.createElement('div');\n",
              "          docLink.innerHTML = docLinkHtml;\n",
              "          element.appendChild(docLink);\n",
              "        }\n",
              "      </script>\n",
              "    </div>\n",
              "  </div>\n",
              "  "
            ]
          },
          "metadata": {},
          "execution_count": 64
        }
      ]
    },
    {
      "cell_type": "code",
      "source": [
        "# This step was dont to convert a Polygon field to a point field\n",
        "\n",
        "points = exploded.copy()\n",
        "# change geometry \n",
        "points['geometry'] = points['geometry'].centroid\n",
        "points.head()"
      ],
      "metadata": {
        "colab": {
          "base_uri": "https://localhost:8080/",
          "height": 265
        },
        "id": "yHOMNYIUUSlw",
        "outputId": "8a2a8785-c173-45f7-f044-fe5b8159b39c"
      },
      "execution_count": 69,
      "outputs": [
        {
          "output_type": "stream",
          "name": "stderr",
          "text": [
            "/usr/local/lib/python3.7/dist-packages/ipykernel_launcher.py:3: UserWarning: Geometry is in a geographic CRS. Results from 'centroid' are likely incorrect. Use 'GeoSeries.to_crs()' to re-project geometries to a projected CRS before this operation.\n",
            "\n",
            "  This is separate from the ipykernel package so we can avoid doing imports until\n"
          ]
        },
        {
          "output_type": "execute_result",
          "data": {
            "text/plain": [
              "    ntacode     shape_area county_fips               ntaname     shape_leng  \\\n",
              "0 0    QN51  52488277.4492         081           Murray Hill  33266.9048559   \n",
              "1 0    QN27   19726845.734         081         East Elmhurst  19816.7117581   \n",
              "2 0    QN41  27774853.5522         081  Fresh Meadows-Utopia  22106.4312724   \n",
              "3 0    QN08  77412747.8943         081            St. Albans  45401.3167856   \n",
              "4 0    BK69  20528197.0269         047          Clinton Hill  23971.4662361   \n",
              "\n",
              "    boro_name boro_code                    geometry  \n",
              "0 0    Queens         4  POINT (-73.80955 40.76835)  \n",
              "1 0    Queens         4  POINT (-73.86840 40.76335)  \n",
              "2 0    Queens         4  POINT (-73.78372 40.73489)  \n",
              "3 0    Queens         4  POINT (-73.76315 40.69120)  \n",
              "4 0  Brooklyn         3  POINT (-73.96236 40.68797)  "
            ],
            "text/html": [
              "\n",
              "  <div id=\"df-9cca727b-6b85-41f3-aed9-9e66d58ad3cc\">\n",
              "    <div class=\"colab-df-container\">\n",
              "      <div>\n",
              "<style scoped>\n",
              "    .dataframe tbody tr th:only-of-type {\n",
              "        vertical-align: middle;\n",
              "    }\n",
              "\n",
              "    .dataframe tbody tr th {\n",
              "        vertical-align: top;\n",
              "    }\n",
              "\n",
              "    .dataframe thead th {\n",
              "        text-align: right;\n",
              "    }\n",
              "</style>\n",
              "<table border=\"1\" class=\"dataframe\">\n",
              "  <thead>\n",
              "    <tr style=\"text-align: right;\">\n",
              "      <th></th>\n",
              "      <th></th>\n",
              "      <th>ntacode</th>\n",
              "      <th>shape_area</th>\n",
              "      <th>county_fips</th>\n",
              "      <th>ntaname</th>\n",
              "      <th>shape_leng</th>\n",
              "      <th>boro_name</th>\n",
              "      <th>boro_code</th>\n",
              "      <th>geometry</th>\n",
              "    </tr>\n",
              "  </thead>\n",
              "  <tbody>\n",
              "    <tr>\n",
              "      <th>0</th>\n",
              "      <th>0</th>\n",
              "      <td>QN51</td>\n",
              "      <td>52488277.4492</td>\n",
              "      <td>081</td>\n",
              "      <td>Murray Hill</td>\n",
              "      <td>33266.9048559</td>\n",
              "      <td>Queens</td>\n",
              "      <td>4</td>\n",
              "      <td>POINT (-73.80955 40.76835)</td>\n",
              "    </tr>\n",
              "    <tr>\n",
              "      <th>1</th>\n",
              "      <th>0</th>\n",
              "      <td>QN27</td>\n",
              "      <td>19726845.734</td>\n",
              "      <td>081</td>\n",
              "      <td>East Elmhurst</td>\n",
              "      <td>19816.7117581</td>\n",
              "      <td>Queens</td>\n",
              "      <td>4</td>\n",
              "      <td>POINT (-73.86840 40.76335)</td>\n",
              "    </tr>\n",
              "    <tr>\n",
              "      <th>2</th>\n",
              "      <th>0</th>\n",
              "      <td>QN41</td>\n",
              "      <td>27774853.5522</td>\n",
              "      <td>081</td>\n",
              "      <td>Fresh Meadows-Utopia</td>\n",
              "      <td>22106.4312724</td>\n",
              "      <td>Queens</td>\n",
              "      <td>4</td>\n",
              "      <td>POINT (-73.78372 40.73489)</td>\n",
              "    </tr>\n",
              "    <tr>\n",
              "      <th>3</th>\n",
              "      <th>0</th>\n",
              "      <td>QN08</td>\n",
              "      <td>77412747.8943</td>\n",
              "      <td>081</td>\n",
              "      <td>St. Albans</td>\n",
              "      <td>45401.3167856</td>\n",
              "      <td>Queens</td>\n",
              "      <td>4</td>\n",
              "      <td>POINT (-73.76315 40.69120)</td>\n",
              "    </tr>\n",
              "    <tr>\n",
              "      <th>4</th>\n",
              "      <th>0</th>\n",
              "      <td>BK69</td>\n",
              "      <td>20528197.0269</td>\n",
              "      <td>047</td>\n",
              "      <td>Clinton Hill</td>\n",
              "      <td>23971.4662361</td>\n",
              "      <td>Brooklyn</td>\n",
              "      <td>3</td>\n",
              "      <td>POINT (-73.96236 40.68797)</td>\n",
              "    </tr>\n",
              "  </tbody>\n",
              "</table>\n",
              "</div>\n",
              "      <button class=\"colab-df-convert\" onclick=\"convertToInteractive('df-9cca727b-6b85-41f3-aed9-9e66d58ad3cc')\"\n",
              "              title=\"Convert this dataframe to an interactive table.\"\n",
              "              style=\"display:none;\">\n",
              "        \n",
              "  <svg xmlns=\"http://www.w3.org/2000/svg\" height=\"24px\"viewBox=\"0 0 24 24\"\n",
              "       width=\"24px\">\n",
              "    <path d=\"M0 0h24v24H0V0z\" fill=\"none\"/>\n",
              "    <path d=\"M18.56 5.44l.94 2.06.94-2.06 2.06-.94-2.06-.94-.94-2.06-.94 2.06-2.06.94zm-11 1L8.5 8.5l.94-2.06 2.06-.94-2.06-.94L8.5 2.5l-.94 2.06-2.06.94zm10 10l.94 2.06.94-2.06 2.06-.94-2.06-.94-.94-2.06-.94 2.06-2.06.94z\"/><path d=\"M17.41 7.96l-1.37-1.37c-.4-.4-.92-.59-1.43-.59-.52 0-1.04.2-1.43.59L10.3 9.45l-7.72 7.72c-.78.78-.78 2.05 0 2.83L4 21.41c.39.39.9.59 1.41.59.51 0 1.02-.2 1.41-.59l7.78-7.78 2.81-2.81c.8-.78.8-2.07 0-2.86zM5.41 20L4 18.59l7.72-7.72 1.47 1.35L5.41 20z\"/>\n",
              "  </svg>\n",
              "      </button>\n",
              "      \n",
              "  <style>\n",
              "    .colab-df-container {\n",
              "      display:flex;\n",
              "      flex-wrap:wrap;\n",
              "      gap: 12px;\n",
              "    }\n",
              "\n",
              "    .colab-df-convert {\n",
              "      background-color: #E8F0FE;\n",
              "      border: none;\n",
              "      border-radius: 50%;\n",
              "      cursor: pointer;\n",
              "      display: none;\n",
              "      fill: #1967D2;\n",
              "      height: 32px;\n",
              "      padding: 0 0 0 0;\n",
              "      width: 32px;\n",
              "    }\n",
              "\n",
              "    .colab-df-convert:hover {\n",
              "      background-color: #E2EBFA;\n",
              "      box-shadow: 0px 1px 2px rgba(60, 64, 67, 0.3), 0px 1px 3px 1px rgba(60, 64, 67, 0.15);\n",
              "      fill: #174EA6;\n",
              "    }\n",
              "\n",
              "    [theme=dark] .colab-df-convert {\n",
              "      background-color: #3B4455;\n",
              "      fill: #D2E3FC;\n",
              "    }\n",
              "\n",
              "    [theme=dark] .colab-df-convert:hover {\n",
              "      background-color: #434B5C;\n",
              "      box-shadow: 0px 1px 3px 1px rgba(0, 0, 0, 0.15);\n",
              "      filter: drop-shadow(0px 1px 2px rgba(0, 0, 0, 0.3));\n",
              "      fill: #FFFFFF;\n",
              "    }\n",
              "  </style>\n",
              "\n",
              "      <script>\n",
              "        const buttonEl =\n",
              "          document.querySelector('#df-9cca727b-6b85-41f3-aed9-9e66d58ad3cc button.colab-df-convert');\n",
              "        buttonEl.style.display =\n",
              "          google.colab.kernel.accessAllowed ? 'block' : 'none';\n",
              "\n",
              "        async function convertToInteractive(key) {\n",
              "          const element = document.querySelector('#df-9cca727b-6b85-41f3-aed9-9e66d58ad3cc');\n",
              "          const dataTable =\n",
              "            await google.colab.kernel.invokeFunction('convertToInteractive',\n",
              "                                                     [key], {});\n",
              "          if (!dataTable) return;\n",
              "\n",
              "          const docLinkHtml = 'Like what you see? Visit the ' +\n",
              "            '<a target=\"_blank\" href=https://colab.research.google.com/notebooks/data_table.ipynb>data table notebook</a>'\n",
              "            + ' to learn more about interactive tables.';\n",
              "          element.innerHTML = '';\n",
              "          dataTable['output_type'] = 'display_data';\n",
              "          await google.colab.output.renderOutput(dataTable, element);\n",
              "          const docLink = document.createElement('div');\n",
              "          docLink.innerHTML = docLinkHtml;\n",
              "          element.appendChild(docLink);\n",
              "        }\n",
              "      </script>\n",
              "    </div>\n",
              "  </div>\n",
              "  "
            ]
          },
          "metadata": {},
          "execution_count": 69
        }
      ]
    },
    {
      "cell_type": "code",
      "source": [
        "#This stored proc was created to convert the Points \n",
        "\n",
        "def geopandas_df_to_spark_df_for_points(gdf):\n",
        "  gdf['lon'] = gdf['geometry'].x\n",
        "  gdf['lat'] = gdf['geometry'].y\n",
        "  sdf = spark.createDataFrame(pd.DataFrame(gdf).drop(['geometry'],axis = 1))\n",
        "  return sdf"
      ],
      "metadata": {
        "id": "0OaQ-HCWSWKC"
      },
      "execution_count": 78,
      "outputs": []
    },
    {
      "cell_type": "code",
      "source": [
        "#This is the geopandas data into a spark dataframe, with points\n",
        "spark_geo_df = geopandas_df_to_spark_df_for_points(points)\n",
        "spark_geo_df.show()\n",
        "spark_geo_df.count()"
      ],
      "metadata": {
        "colab": {
          "base_uri": "https://localhost:8080/"
        },
        "id": "TQStlBK4TlXF",
        "outputId": "08879f93-7b00-438e-b570-0779c49f12af"
      },
      "execution_count": 81,
      "outputs": [
        {
          "output_type": "stream",
          "name": "stdout",
          "text": [
            "+-------+-------------+-----------+--------------------+-------------+-------------+---------+------------------+------------------+\n",
            "|ntacode|   shape_area|county_fips|             ntaname|   shape_leng|    boro_name|boro_code|               lon|               lat|\n",
            "+-------+-------------+-----------+--------------------+-------------+-------------+---------+------------------+------------------+\n",
            "|   QN51|52488277.4492|        081|         Murray Hill|33266.9048559|       Queens|        4|-73.80954590112775| 40.76835158791797|\n",
            "|   QN27| 19726845.734|        081|       East Elmhurst|19816.7117581|       Queens|        4| -73.8683955982344|40.763352201165496|\n",
            "|   QN41|27774853.5522|        081|Fresh Meadows-Utopia|22106.4312724|       Queens|        4|-73.78371636114146| 40.73489448639481|\n",
            "|   QN08|77412747.8943|        081|          St. Albans|45401.3167856|       Queens|        4| -73.7631460750064| 40.69120183506941|\n",
            "|   BK69|20528197.0269|        047|        Clinton Hill|23971.4662361|     Brooklyn|        3|-73.96236332327301|  40.6879668129331|\n",
            "|   BK26|31341950.1956|        047|           Gravesend|39922.6746939|     Brooklyn|        3| -73.9814305041411| 40.58840281804866|\n",
            "|   BK46|17782095.3208|        047| Ocean Parkway South|21975.9960439|     Brooklyn|        3|-73.97032580021225| 40.61731496057655|\n",
            "|   BX28|25666124.8994|        005|Van Cortlandt Vil...|21945.7196947|        Bronx|        2|-73.89562209803658|  40.8765133819713|\n",
            "|   QN55|82461393.4726|        081|    South Ozone Park|36708.1695168|       Queens|        4|-73.81945921645114|40.676155273618356|\n",
            "|   BK40|14041668.0604|        047|     Windsor Terrace|19033.6720986|     Brooklyn|        3|-73.97798272751132| 40.65361197601803|\n",
            "|   BK50|82089678.7708|        047|            Canarsie|43703.6096848|     Brooklyn|        3|-73.88843690460621|40.646792382605945|\n",
            "|   BK50|82089678.7708|        047|            Canarsie|43703.6096848|     Brooklyn|        3|-73.89975123948975| 40.63804206251586|\n",
            "|   SI32|64963357.7696|        085|   Rossville-Woodrow|33247.2577048|Staten Island|        5|-74.20782757893505| 40.54033377253595|\n",
            "|   MN12|34379942.2944|        061|     Upper West Side| 29160.206256|    Manhattan|        1|-73.97390784022546|40.790379981380944|\n",
            "|   BX43|15724928.6795|        005|             Norwood|22150.3083922|        Bronx|        2|-73.87902106916266| 40.87714227893235|\n",
            "|   BX05|14998883.5268|        005|Bedford Park-Ford...|22565.4814943|        Bronx|        2|-73.89018363621626|  40.8676820905089|\n",
            "|   BX41| 14716710.771|        005|          Mount Hope|18937.2478974|        Bronx|        2|-73.90512194940762|40.849058131311686|\n",
            "|   QN26|18003888.0941|        081|        North Corona|18429.5401419|       Queens|        4| -73.8630363014143|40.752579512719294|\n",
            "|   BK23|8738769.02737|        047|       West Brighton|14113.5815259|     Brooklyn|        3|-73.97339095001306|40.579088686320304|\n",
            "|   QN18|19941812.4738|        081|           Rego Park| 26675.103351|       Queens|        4|-73.86333861099205| 40.72615545587483|\n",
            "+-------+-------------+-----------+--------------------+-------------+-------------+---------+------------------+------------------+\n",
            "only showing top 20 rows\n",
            "\n"
          ]
        },
        {
          "output_type": "execute_result",
          "data": {
            "text/plain": [
              "368"
            ]
          },
          "metadata": {},
          "execution_count": 81
        }
      ]
    },
    {
      "cell_type": "code",
      "source": [
        "from pyspark.sql.functions import *\n",
        "from pyspark.sql.types import *\n",
        "unionDF = unionDF.withColumn(\"day\", dayofmonth(\"Date\"))\n",
        "unionDF.show()"
      ],
      "metadata": {
        "colab": {
          "base_uri": "https://localhost:8080/"
        },
        "id": "Ut3lxcYxtYUY",
        "outputId": "e29e4d2e-c2df-4b29-a637-4d4a412f01e8"
      },
      "execution_count": 85,
      "outputs": [
        {
          "output_type": "stream",
          "name": "stdout",
          "text": [
            "+----------------+---------------+----------+---+\n",
            "|pickup_longitude|pickup_latitude|      Date|day|\n",
            "+----------------+---------------+----------+---+\n",
            "|       -73.98174|       40.71916|2016-01-01|  1|\n",
            "|      -73.985085|      40.747166|2016-01-01|  1|\n",
            "|       -73.96528|       40.80104|2016-01-01|  1|\n",
            "|       -73.98229|       40.75133|2016-01-01|  1|\n",
            "|       -73.97011|        40.7598|2016-01-01|  1|\n",
            "|      -73.973335|      40.764072|2016-01-01|  1|\n",
            "|        -73.9931|      40.752632|2016-01-01|  1|\n",
            "|       -73.98544|       40.73571|2016-01-01|  1|\n",
            "|       -73.99374|       40.74176|2016-01-01|  1|\n",
            "|       -73.97686|      40.683376|2016-01-01|  1|\n",
            "|       -73.96979|      40.757584|2016-01-01|  1|\n",
            "|       -73.99397|      40.740868|2016-01-01|  1|\n",
            "|       -73.95951|       40.76281|2016-01-01|  1|\n",
            "|       -73.99026|      40.737034|2016-01-01|  1|\n",
            "|      -73.990135|       40.74885|2016-01-01|  1|\n",
            "|       -74.00532|       40.72866|2016-01-01|  1|\n",
            "|        -73.9358|       40.70731|2016-01-01|  1|\n",
            "|       -73.99496|       40.74512|2016-01-01|  1|\n",
            "|       -73.99046|      40.751007|2016-01-01|  1|\n",
            "|       -73.95364|       40.77526|2016-01-01|  1|\n",
            "+----------------+---------------+----------+---+\n",
            "only showing top 20 rows\n",
            "\n"
          ]
        }
      ]
    },
    {
      "cell_type": "code",
      "source": [
        "unionDF = unionDF.withColumn(\"month\", month(\"Date\"))\n",
        "unionDF.show(2)"
      ],
      "metadata": {
        "colab": {
          "base_uri": "https://localhost:8080/"
        },
        "id": "sP-NgELUtYW4",
        "outputId": "9a64d486-6aec-435a-ba67-b6665d423f46"
      },
      "execution_count": 46,
      "outputs": [
        {
          "output_type": "stream",
          "name": "stdout",
          "text": [
            "+----------------+---------------+----------+---+-----+\n",
            "|pickup_longitude|pickup_latitude|      Date|day|month|\n",
            "+----------------+---------------+----------+---+-----+\n",
            "|       -73.98174|       40.71916|2016-01-01|  1|    1|\n",
            "|      -73.985085|      40.747166|2016-01-01|  1|    1|\n",
            "+----------------+---------------+----------+---+-----+\n",
            "only showing top 2 rows\n",
            "\n"
          ]
        }
      ]
    },
    {
      "cell_type": "code",
      "source": [
        "unionDF = unionDF.withColumn(\"Year\", year(\"Date\"))\n",
        "unionDF.show(2)"
      ],
      "metadata": {
        "colab": {
          "base_uri": "https://localhost:8080/"
        },
        "id": "OPKRGe_eMFoz",
        "outputId": "9a9ea6bc-fcbc-451f-879a-e51f501af787"
      },
      "execution_count": 19,
      "outputs": [
        {
          "output_type": "stream",
          "name": "stdout",
          "text": [
            "+----------------+---------------+----------+---+-----+----+\n",
            "|pickup_longitude|pickup_latitude|      Date|day|month|Year|\n",
            "+----------------+---------------+----------+---+-----+----+\n",
            "|       -73.98174|       40.71916|2016-01-01|  1|    1|2016|\n",
            "|      -73.985085|      40.747166|2016-01-01|  1|    1|2016|\n",
            "+----------------+---------------+----------+---+-----+----+\n",
            "only showing top 2 rows\n",
            "\n"
          ]
        }
      ]
    },
    {
      "cell_type": "code",
      "source": [
        "unionDF = unionDF.withColumn(\"dayofweek\", date_format(\"date\", 'E'))\n",
        "unionDF.show(2)"
      ],
      "metadata": {
        "colab": {
          "base_uri": "https://localhost:8080/"
        },
        "id": "K6Ssnpkg3-vQ",
        "outputId": "53caad0d-3991-4aca-b5d2-415ba5763ef6"
      },
      "execution_count": 20,
      "outputs": [
        {
          "output_type": "stream",
          "name": "stdout",
          "text": [
            "+----------------+---------------+----------+---+-----+----+---------+\n",
            "|pickup_longitude|pickup_latitude|      Date|day|month|Year|dayofweek|\n",
            "+----------------+---------------+----------+---+-----+----+---------+\n",
            "|       -73.98174|       40.71916|2016-01-01|  1|    1|2016|      Fri|\n",
            "|      -73.985085|      40.747166|2016-01-01|  1|    1|2016|      Fri|\n",
            "+----------------+---------------+----------+---+-----+----+---------+\n",
            "only showing top 2 rows\n",
            "\n"
          ]
        }
      ]
    },
    {
      "cell_type": "markdown",
      "source": [
        "**Number of Trips in year**"
      ],
      "metadata": {
        "id": "B_9B_Z6kLvb3"
      }
    },
    {
      "cell_type": "code",
      "source": [
        "n_trips_of_year = unionDF.groupby('Year').count().orderBy('year')\n",
        "n_trips_of_year.show(2)"
      ],
      "metadata": {
        "colab": {
          "base_uri": "https://localhost:8080/"
        },
        "id": "tyHHA4BsUIeJ",
        "outputId": "b76f7f76-69ee-4fba-fbbf-083b5dd64b7e"
      },
      "execution_count": 21,
      "outputs": [
        {
          "output_type": "stream",
          "name": "stdout",
          "text": [
            "+----+-------+\n",
            "|Year|  count|\n",
            "+----+-------+\n",
            "|2015|1048575|\n",
            "|2016|1048575|\n",
            "+----+-------+\n",
            "\n"
          ]
        }
      ]
    },
    {
      "cell_type": "code",
      "source": [
        "import matplotlib.pyplot as plt\n",
        "import pandas\n",
        "\n",
        "\n",
        "x= n_trips_of_year.toPandas()['Year'].values.tolist()\n",
        "\n",
        "y= n_trips_of_year.toPandas()[\"count\"].values.tolist()\n",
        "\n",
        "plt.bar(x , y  , label=\"Yearly trend\")\n",
        "plt.plot()\n",
        "\n",
        "plt.xlabel(\"Year\")\n",
        "plt.ylabel(\"Count of Trips\")\n",
        "plt.title(\"Line Graph Example\")\n",
        "plt.legend()\n",
        "plt.show()"
      ],
      "metadata": {
        "colab": {
          "base_uri": "https://localhost:8080/",
          "height": 295
        },
        "id": "AIfSY-bW5RMT",
        "outputId": "9ec92116-1bbc-4acf-e37c-b6a65b1ff3f4"
      },
      "execution_count": 22,
      "outputs": [
        {
          "output_type": "display_data",
          "data": {
            "text/plain": [
              "<Figure size 432x288 with 1 Axes>"
            ],
            "image/png": "[encoded data removed]"
          },
          "metadata": {
            "needs_background": "light"
          }
        }
      ]
    },
    {
      "cell_type": "markdown",
      "source": [
        "**Number of Trips in months**"
      ],
      "metadata": {
        "id": "E3We2FDROd45"
      }
    },
    {
      "cell_type": "code",
      "source": [
        "n_trips_month = unionDF.groupby(unionDF[\"month\"]).count()\n",
        "n_trips_month.show(2)"
      ],
      "metadata": {
        "colab": {
          "base_uri": "https://localhost:8080/"
        },
        "id": "IyCDlVERT98D",
        "outputId": "3e7ed937-ea47-4783-d412-92816973c777"
      },
      "execution_count": 23,
      "outputs": [
        {
          "output_type": "stream",
          "name": "stdout",
          "text": [
            "+-----+------+\n",
            "|month| count|\n",
            "+-----+------+\n",
            "|    1|363483|\n",
            "|    6|361203|\n",
            "+-----+------+\n",
            "only showing top 2 rows\n",
            "\n"
          ]
        }
      ]
    },
    {
      "cell_type": "code",
      "source": [
        "import matplotlib.pyplot as plt\n",
        "import pandas\n",
        "\n",
        "\n",
        "x= n_trips_month.toPandas()['month'].values.tolist()\n",
        "\n",
        "y= n_trips_month.toPandas()[\"count\"].values.tolist()\n",
        "\n",
        "plt.bar(x , y  , label=\"Days of month trend\")\n",
        "plt.plot()\n",
        "\n",
        "plt.xlabel(\"Months\")\n",
        "plt.ylabel(\"Count of Trips\")\n",
        "plt.title(\"Number of Trips in months\")\n",
        "plt.legend()\n",
        "plt.show()"
      ],
      "metadata": {
        "colab": {
          "base_uri": "https://localhost:8080/",
          "height": 295
        },
        "id": "CIkftF39OBAg",
        "outputId": "98209905-15d4-4fb7-fc27-aeb078660613"
      },
      "execution_count": 24,
      "outputs": [
        {
          "output_type": "display_data",
          "data": {
            "text/plain": [
              "<Figure size 432x288 with 1 Axes>"
            ],
            "image/png": "[encoded data removed]"
          },
          "metadata": {
            "needs_background": "light"
          }
        }
      ]
    },
    {
      "cell_type": "markdown",
      "source": [
        "**Number of Trips in days of months**"
      ],
      "metadata": {
        "id": "d-NrJiArOiDD"
      }
    },
    {
      "cell_type": "code",
      "source": [
        "n_trips_of_day = unionDF.groupby('day').count()\n",
        "n_trips_of_day.show(2)"
      ],
      "metadata": {
        "colab": {
          "base_uri": "https://localhost:8080/"
        },
        "id": "TWb8k8K0Sk6D",
        "outputId": "33d29672-4d01-45ea-9de8-f4599342fe9d"
      },
      "execution_count": 25,
      "outputs": [
        {
          "output_type": "stream",
          "name": "stdout",
          "text": [
            "+---+-----+\n",
            "|day|count|\n",
            "+---+-----+\n",
            "| 31|52778|\n",
            "| 28|80293|\n",
            "+---+-----+\n",
            "only showing top 2 rows\n",
            "\n"
          ]
        }
      ]
    },
    {
      "cell_type": "code",
      "source": [
        "import matplotlib.pyplot as plt\n",
        "import pandas\n",
        "\n",
        "\n",
        "x= n_trips_of_day.toPandas()['day'].values.tolist()\n",
        "\n",
        "y= n_trips_of_day.toPandas()[\"count\"].values.tolist()\n",
        "\n",
        "plt.bar(x , y  , label=\"Days of month trend\")\n",
        "plt.plot()\n",
        "\n",
        "plt.xlabel(\"DaysOfMonth\")\n",
        "plt.ylabel(\"Count of Trips\")\n",
        "plt.title(\"Number of Trips in days of months\")\n",
        "plt.legend()\n",
        "plt.show()"
      ],
      "metadata": {
        "colab": {
          "base_uri": "https://localhost:8080/",
          "height": 295
        },
        "id": "ph4xheBOOlH-",
        "outputId": "c4278db0-9593-4a6c-b64d-c7f5e3d57ec6"
      },
      "execution_count": 26,
      "outputs": [
        {
          "output_type": "display_data",
          "data": {
            "text/plain": [
              "<Figure size 432x288 with 1 Axes>"
            ],
            "image/png": "[encoded data removed]"
          },
          "metadata": {
            "needs_background": "light"
          }
        }
      ]
    },
    {
      "cell_type": "markdown",
      "source": [
        "**Number of Trips in days of week**"
      ],
      "metadata": {
        "id": "G9gBku5oOlaq"
      }
    },
    {
      "cell_type": "code",
      "source": [
        "n_trips_dayofweek = unionDF.groupby(unionDF[\"dayofweek\"]).count()\n",
        "n_trips_dayofweek.show(2)"
      ],
      "metadata": {
        "colab": {
          "base_uri": "https://localhost:8080/"
        },
        "id": "wIa8NrEGSoXU",
        "outputId": "561c9e1b-370a-41cd-d463-45ea3e61660e"
      },
      "execution_count": 27,
      "outputs": [
        {
          "output_type": "stream",
          "name": "stdout",
          "text": [
            "+---------+------+\n",
            "|dayofweek| count|\n",
            "+---------+------+\n",
            "|      Sun|305080|\n",
            "|      Mon|288227|\n",
            "+---------+------+\n",
            "only showing top 2 rows\n",
            "\n"
          ]
        }
      ]
    },
    {
      "cell_type": "code",
      "source": [
        "import matplotlib.pyplot as plt\n",
        "import pandas\n",
        "\n",
        "\n",
        "x= n_trips_dayofweek.toPandas()['dayofweek'].values.tolist()\n",
        "\n",
        "y= n_trips_dayofweek.toPandas()[\"count\"].values.tolist()\n",
        "\n",
        "plt.bar(x , y  , label=\"Days of week trend\")\n",
        "plt.plot()\n",
        "\n",
        "plt.xlabel(\"DaysOfWeek\")\n",
        "plt.ylabel(\"Count of Trips\")\n",
        "plt.title(\"Number of Trips in days of week\")\n",
        "plt.legend()\n",
        "plt.show()"
      ],
      "metadata": {
        "colab": {
          "base_uri": "https://localhost:8080/",
          "height": 295
        },
        "id": "HfNZ5HgdOBDo",
        "outputId": "1c3c1114-abb3-4b94-ad5f-a99463e8c837"
      },
      "execution_count": null,
      "outputs": [
        {
          "output_type": "display_data",
          "data": {
            "text/plain": [
              "<Figure size 432x288 with 1 Axes>"
            ],
            "image/png": "[encoded data removed]"
          },
          "metadata": {
            "needs_background": "light"
          }
        }
      ]
    },
    {
      "cell_type": "code",
      "source": [
        ""
      ],
      "metadata": {
        "id": "_kCXU-GfOBG3"
      },
      "execution_count": null,
      "outputs": []
    },
    {
      "cell_type": "code",
      "source": [
        ""
      ],
      "metadata": {
        "id": "GSy0LlxiSYFz"
      },
      "execution_count": null,
      "outputs": []
    },
    {
      "cell_type": "code",
      "source": [
        ""
      ],
      "metadata": {
        "id": "7i01WbuzSYIT"
      },
      "execution_count": null,
      "outputs": []
    }
  ]
}