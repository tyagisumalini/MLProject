{
  "nbformat": 4,
  "nbformat_minor": 0,
  "metadata": {
    "colab": {
      "name": "EDA.ipynb",
      "provenance": [],
      "collapsed_sections": []
    },
    "kernelspec": {
      "name": "python3",
      "display_name": "Python 3"
    },
    "language_info": {
      "name": "python"
    }
  },
  "cells": [
    {
      "cell_type": "code",
      "execution_count": null,
      "metadata": {
        "id": "FxyEo-Zu8lp7"
      },
      "outputs": [],
      "source": [
        "# ML project"
      ]
    },
    {
      "cell_type": "markdown",
      "source": [
        "**Exploratory Data Analysis**"
      ],
      "metadata": {
        "id": "81YHWNhsHAx9"
      }
    },
    {
      "cell_type": "markdown",
      "source": [
        "**Initialize Spark**"
      ],
      "metadata": {
        "id": "pFzQKZx7jFGu"
      }
    },
    {
      "cell_type": "code",
      "source": [
        "# Spark init\n",
        "\n",
        "!wget -q https://dlcdn.apache.org/spark/spark-3.1.2/spark-3.1.2-bin-hadoop2.7.tgz \n",
        "!tar xf spark-3.1.2-bin-hadoop2.7.tgz\n",
        "import os\n",
        "os.environ[\"JAVA_HOME\"] = \"/usr/lib/jvm/default-java\"\n",
        "os.environ[\"SPARK_HOME\"] = \"/content/spark-3.1.2-bin-hadoop2.7\"\n",
        "!pip install -q findspark\n",
        "import findspark\n",
        "findspark.init()"
      ],
      "metadata": {
        "id": "gf1Hsa4CHE4e"
      },
      "execution_count": 1,
      "outputs": []
    },
    {
      "cell_type": "code",
      "source": [
        "# Import pyspark session\n",
        "\n",
        "from pyspark.sql.types import *\n",
        "from pyspark.sql import SparkSession\n",
        "\n",
        "spark = SparkSession.builder\\\n",
        "        .master(\"local\")\\\n",
        "        .appName(\"Colab\")\\\n",
        "        .config('spark.ui.port', '4050')\\\n",
        "        .getOrCreate()"
      ],
      "metadata": {
        "id": "aigCY84_jgh8"
      },
      "execution_count": 2,
      "outputs": []
    },
    {
      "cell_type": "code",
      "source": [
        "# Mount google drive\n",
        "\n",
        "from google.colab import drive\n",
        "drive.mount('/content/drive')"
      ],
      "metadata": {
        "colab": {
          "base_uri": "https://localhost:8080/"
        },
        "id": "7eSZbxqXjkZq",
        "outputId": "4962b869-272a-4d62-d409-659f91e598a2"
      },
      "execution_count": 3,
      "outputs": [
        {
          "output_type": "stream",
          "name": "stdout",
          "text": [
            "Mounted at /content/drive\n"
          ]
        }
      ]
    },
    {
      "cell_type": "markdown",
      "source": [
        "**Load The Data**"
      ],
      "metadata": {
        "id": "blyz4MdSkD_h"
      }
    },
    {
      "cell_type": "code",
      "source": [
        "# Read the data from raw files for 2015 and 2016 \n",
        "df_raw_data_2016 = spark.read.csv('/content/drive/MyDrive/data/uber-raw-data-jantojune-16.csv', sep=',', header=True)\n",
        "df_raw_data_2015 = spark.read.csv('/content/drive/MyDrive/data/uber-raw-data-jantojune-15.csv', sep=',', header=True)"
      ],
      "metadata": {
        "id": "9V2zsd7ijrEV"
      },
      "execution_count": 4,
      "outputs": []
    },
    {
      "cell_type": "code",
      "source": [
        "# Display head to check the data read into dataframes\n",
        "\n",
        "df_raw_data_2016.head(5)"
      ],
      "metadata": {
        "colab": {
          "base_uri": "https://localhost:8080/"
        },
        "id": "0MOcgbejDAXa",
        "outputId": "a74fe430-a12c-445e-cd20-4e689a9488f5"
      },
      "execution_count": 5,
      "outputs": [
        {
          "output_type": "execute_result",
          "data": {
            "text/plain": [
              "[Row(id='id0190469', vendor_id='2', pickup_datetime='01/01/2016', dropoff_datetime='01/01/2016', passenger_count='5', pickup_longitude='-73.98174286', pickup_latitude='40.71915817', dropoff_longitude='-73.93882751', dropoff_latitude='40.82918167', store_and_fwd_flag='N', trip_duration='849'),\n",
              " Row(id='id1665586', vendor_id='1', pickup_datetime='01/01/2016', dropoff_datetime='01/01/2016', passenger_count='1', pickup_longitude='-73.98508453', pickup_latitude='40.74716568', dropoff_longitude='-73.95803833', dropoff_latitude='40.71749115', store_and_fwd_flag='N', trip_duration='1294'),\n",
              " Row(id='id1210365', vendor_id='2', pickup_datetime='01/01/2016', dropoff_datetime='01/01/2016', passenger_count='5', pickup_longitude='-73.96527863', pickup_latitude='40.80104065', dropoff_longitude='-73.94747925', dropoff_latitude='40.81517029', store_and_fwd_flag='N', trip_duration='408'),\n",
              " Row(id='id3888279', vendor_id='1', pickup_datetime='01/01/2016', dropoff_datetime='01/01/2016', passenger_count='1', pickup_longitude='-73.98229218', pickup_latitude='40.75133133', dropoff_longitude='-73.99134064', dropoff_latitude='40.75033951', store_and_fwd_flag='N', trip_duration='280'),\n",
              " Row(id='id0924227', vendor_id='1', pickup_datetime='01/01/2016', dropoff_datetime='01/01/2016', passenger_count='1', pickup_longitude='-73.97010803', pickup_latitude='40.75979996', dropoff_longitude='-73.98935699', dropoff_latitude='40.74298859', store_and_fwd_flag='N', trip_duration='736')]"
            ]
          },
          "metadata": {},
          "execution_count": 5
        }
      ]
    },
    {
      "cell_type": "code",
      "source": [
        "# Drop the columns that are not needed from the dataframe and store it in a new clean dataframe\n",
        "\n",
        "cols =['id','vendor_id','dropoff_datetime','passenger_count','dropoff_longitude','dropoff_latitude','store_and_fwd_flag','trip_duration']\n",
        "\n",
        "df_raw_data_2016_clean= df_raw_data_2016.drop(*cols)"
      ],
      "metadata": {
        "id": "eD6lo5KiDf2D"
      },
      "execution_count": 6,
      "outputs": []
    },
    {
      "cell_type": "code",
      "source": [
        "# Display the clean dataframe to ensure the columns are dropped\n",
        "\n",
        "df_raw_data_2016_clean.head(5)"
      ],
      "metadata": {
        "colab": {
          "base_uri": "https://localhost:8080/"
        },
        "id": "nB2re4vHD5ex",
        "outputId": "44f20a9d-c007-4c11-ad85-4fea557d2f26"
      },
      "execution_count": 7,
      "outputs": [
        {
          "output_type": "execute_result",
          "data": {
            "text/plain": [
              "[Row(pickup_datetime='01/01/2016', pickup_longitude='-73.98174286', pickup_latitude='40.71915817'),\n",
              " Row(pickup_datetime='01/01/2016', pickup_longitude='-73.98508453', pickup_latitude='40.74716568'),\n",
              " Row(pickup_datetime='01/01/2016', pickup_longitude='-73.96527863', pickup_latitude='40.80104065'),\n",
              " Row(pickup_datetime='01/01/2016', pickup_longitude='-73.98229218', pickup_latitude='40.75133133'),\n",
              " Row(pickup_datetime='01/01/2016', pickup_longitude='-73.97010803', pickup_latitude='40.75979996')]"
            ]
          },
          "metadata": {},
          "execution_count": 7
        }
      ]
    },
    {
      "cell_type": "code",
      "source": [
        "# Drop the columns that are not needed from the dataframe and store it in a new clean dataframe\n",
        "\n",
        "cols =['Dispatching_base_num','Affiliated_base_num','locationID']\n",
        "\n",
        "df_raw_data_2015_clean= df_raw_data_2015.drop(*cols)"
      ],
      "metadata": {
        "id": "Rz5KZbZKFLPw"
      },
      "execution_count": 8,
      "outputs": []
    },
    {
      "cell_type": "code",
      "source": [
        "# Display the clean dataframe to ensure the columns are dropped\n",
        "\n",
        "df_raw_data_2015_clean.head(5)"
      ],
      "metadata": {
        "colab": {
          "base_uri": "https://localhost:8080/"
        },
        "id": "Hsbj4-OsDDTr",
        "outputId": "108a8136-e5cd-427c-cf0d-61b6747a0a7a"
      },
      "execution_count": 10,
      "outputs": [
        {
          "output_type": "execute_result",
          "data": {
            "text/plain": [
              "[Row(Pickup_date='05/17/2015', pickup_longitude='-73.93882751', pickup_latitude='40.82918167'),\n",
              " Row(Pickup_date='05/17/2015', pickup_longitude='-73.95803833', pickup_latitude='40.71749115'),\n",
              " Row(Pickup_date='05/17/2015', pickup_longitude='-73.94747925', pickup_latitude='40.81517029'),\n",
              " Row(Pickup_date='05/17/2015', pickup_longitude='-73.99134064', pickup_latitude='40.75033951'),\n",
              " Row(Pickup_date='05/17/2015', pickup_longitude='-73.98935699', pickup_latitude='40.74298859')]"
            ]
          },
          "metadata": {},
          "execution_count": 10
        }
      ]
    },
    {
      "cell_type": "code",
      "source": [
        "# Combine the two dataframes into one\n",
        "\n",
        "unionDF = df_raw_data_2016_clean.union(df_raw_data_2015_clean)\n",
        "unionDF.show(truncate=False)"
      ],
      "metadata": {
        "colab": {
          "base_uri": "https://localhost:8080/"
        },
        "id": "WSF_DQ3_CdSu",
        "outputId": "0b14dacb-71da-4b18-9232-9f2423f42d4a"
      },
      "execution_count": 9,
      "outputs": [
        {
          "output_type": "stream",
          "name": "stdout",
          "text": [
            "+---------------+----------------+---------------+\n",
            "|pickup_datetime|pickup_longitude|pickup_latitude|\n",
            "+---------------+----------------+---------------+\n",
            "|01/01/2016     |-73.98174286    |40.71915817    |\n",
            "|01/01/2016     |-73.98508453    |40.74716568    |\n",
            "|01/01/2016     |-73.96527863    |40.80104065    |\n",
            "|01/01/2016     |-73.98229218    |40.75133133    |\n",
            "|01/01/2016     |-73.97010803    |40.75979996    |\n",
            "|01/01/2016     |-73.97333527    |40.76407242    |\n",
            "|01/01/2016     |-73.99310303    |40.75263214    |\n",
            "|01/01/2016     |-73.98544312    |40.73571014    |\n",
            "|01/01/2016     |-73.99373627    |40.74176025    |\n",
            "|01/01/2016     |-73.97686005    |40.68337631    |\n",
            "|01/01/2016     |-73.9697876     |40.75758362    |\n",
            "|01/01/2016     |-73.99397278    |40.74086761    |\n",
            "|01/01/2016     |-73.9595108     |40.76280975    |\n",
            "|01/01/2016     |-73.99025726    |40.73703384    |\n",
            "|01/01/2016     |-73.99013519    |40.74885178    |\n",
            "|01/01/2016     |-74.00531769    |40.72866058    |\n",
            "|01/01/2016     |-73.93579865    |40.70730972    |\n",
            "|01/01/2016     |-73.99495697    |40.745121      |\n",
            "|01/01/2016     |-73.99046326    |40.75100708    |\n",
            "|01/01/2016     |-73.9536438     |40.77526093    |\n",
            "+---------------+----------------+---------------+\n",
            "only showing top 20 rows\n",
            "\n"
          ]
        }
      ]
    },
    {
      "cell_type": "code",
      "source": [
        "# Display schema\n",
        "\n",
        "unionDF.printSchema()"
      ],
      "metadata": {
        "colab": {
          "base_uri": "https://localhost:8080/"
        },
        "id": "DsIUWSDaj71e",
        "outputId": "959c4898-7374-4943-8346-390139c8663c"
      },
      "execution_count": 11,
      "outputs": [
        {
          "output_type": "stream",
          "name": "stdout",
          "text": [
            "root\n",
            " |-- pickup_datetime: string (nullable = true)\n",
            " |-- pickup_longitude: string (nullable = true)\n",
            " |-- pickup_latitude: string (nullable = true)\n",
            "\n"
          ]
        }
      ]
    },
    {
      "cell_type": "code",
      "source": [
        "# Change the dataype of the latitiude column\n",
        "unionDF = unionDF.withColumn(\"pickup_latitude\", unionDF['pickup_latitude'].\\\n",
        "           \t\t\t\t\t\t\t\tcast(FloatType()))"
      ],
      "metadata": {
        "id": "7H5wo0Cn4IU_"
      },
      "execution_count": 12,
      "outputs": []
    },
    {
      "cell_type": "code",
      "source": [
        "# Chsnge the datatype of the longitude column\n",
        "unionDF = unionDF.withColumn(\"pickup_longitude\", unionDF['pickup_longitude'].\\\n",
        "           \t\t\t\t\t\t\t\tcast(FloatType()))"
      ],
      "metadata": {
        "id": "n2XADhC04Ii4"
      },
      "execution_count": 13,
      "outputs": []
    },
    {
      "cell_type": "code",
      "source": [
        "# Convert the datetime column data type to date data type\n",
        "\n",
        "from datetime import datetime\n",
        "\n",
        "from pyspark.sql.functions import col, udf\n",
        "\n",
        "from pyspark.sql.types import DateType\n",
        "\n",
        "# Setting an user define function:\n",
        "\n",
        "# This function converts the string cell into a date:\n",
        "\n",
        "func =  udf (lambda x: datetime.strptime(x, '%m/%d/%Y'), DateType())\n",
        "\n",
        "unionDF = unionDF.withColumn('Date', func(col('pickup_datetime')))\n",
        "\n",
        "unionDF.show()\n",
        "\n",
        "unionDF.printSchema()"
      ],
      "metadata": {
        "colab": {
          "base_uri": "https://localhost:8080/"
        },
        "id": "pkThDn4T3uom",
        "outputId": "11985bdc-a92d-4e25-b1e8-380df77b2221"
      },
      "execution_count": 14,
      "outputs": [
        {
          "output_type": "stream",
          "name": "stdout",
          "text": [
            "+---------------+----------------+---------------+----------+\n",
            "|pickup_datetime|pickup_longitude|pickup_latitude|      Date|\n",
            "+---------------+----------------+---------------+----------+\n",
            "|     01/01/2016|       -73.98174|       40.71916|2016-01-01|\n",
            "|     01/01/2016|      -73.985085|      40.747166|2016-01-01|\n",
            "|     01/01/2016|       -73.96528|       40.80104|2016-01-01|\n",
            "|     01/01/2016|       -73.98229|       40.75133|2016-01-01|\n",
            "|     01/01/2016|       -73.97011|        40.7598|2016-01-01|\n",
            "|     01/01/2016|      -73.973335|      40.764072|2016-01-01|\n",
            "|     01/01/2016|        -73.9931|      40.752632|2016-01-01|\n",
            "|     01/01/2016|       -73.98544|       40.73571|2016-01-01|\n",
            "|     01/01/2016|       -73.99374|       40.74176|2016-01-01|\n",
            "|     01/01/2016|       -73.97686|      40.683376|2016-01-01|\n",
            "|     01/01/2016|       -73.96979|      40.757584|2016-01-01|\n",
            "|     01/01/2016|       -73.99397|      40.740868|2016-01-01|\n",
            "|     01/01/2016|       -73.95951|       40.76281|2016-01-01|\n",
            "|     01/01/2016|       -73.99026|      40.737034|2016-01-01|\n",
            "|     01/01/2016|      -73.990135|       40.74885|2016-01-01|\n",
            "|     01/01/2016|       -74.00532|       40.72866|2016-01-01|\n",
            "|     01/01/2016|        -73.9358|       40.70731|2016-01-01|\n",
            "|     01/01/2016|       -73.99496|       40.74512|2016-01-01|\n",
            "|     01/01/2016|       -73.99046|      40.751007|2016-01-01|\n",
            "|     01/01/2016|       -73.95364|       40.77526|2016-01-01|\n",
            "+---------------+----------------+---------------+----------+\n",
            "only showing top 20 rows\n",
            "\n",
            "root\n",
            " |-- pickup_datetime: string (nullable = true)\n",
            " |-- pickup_longitude: float (nullable = true)\n",
            " |-- pickup_latitude: float (nullable = true)\n",
            " |-- Date: date (nullable = true)\n",
            "\n"
          ]
        }
      ]
    },
    {
      "cell_type": "code",
      "source": [
        "# Drop the datetime column of string type \n",
        "cols =['pickup_datetime']\n",
        "\n",
        "unionDF= unionDF.drop(*cols)"
      ],
      "metadata": {
        "id": "-HNpiUfAKggl"
      },
      "execution_count": 15,
      "outputs": []
    },
    {
      "cell_type": "code",
      "source": [
        "# Display clean dataframe\n",
        "\n",
        "unionDF.show()"
      ],
      "metadata": {
        "colab": {
          "base_uri": "https://localhost:8080/"
        },
        "id": "CKS8ekIgKgtU",
        "outputId": "ee3d58ad-8362-4d01-fc0b-20872834bc80"
      },
      "execution_count": 16,
      "outputs": [
        {
          "output_type": "stream",
          "name": "stdout",
          "text": [
            "+----------------+---------------+----------+\n",
            "|pickup_longitude|pickup_latitude|      Date|\n",
            "+----------------+---------------+----------+\n",
            "|       -73.98174|       40.71916|2016-01-01|\n",
            "|      -73.985085|      40.747166|2016-01-01|\n",
            "|       -73.96528|       40.80104|2016-01-01|\n",
            "|       -73.98229|       40.75133|2016-01-01|\n",
            "|       -73.97011|        40.7598|2016-01-01|\n",
            "|      -73.973335|      40.764072|2016-01-01|\n",
            "|        -73.9931|      40.752632|2016-01-01|\n",
            "|       -73.98544|       40.73571|2016-01-01|\n",
            "|       -73.99374|       40.74176|2016-01-01|\n",
            "|       -73.97686|      40.683376|2016-01-01|\n",
            "|       -73.96979|      40.757584|2016-01-01|\n",
            "|       -73.99397|      40.740868|2016-01-01|\n",
            "|       -73.95951|       40.76281|2016-01-01|\n",
            "|       -73.99026|      40.737034|2016-01-01|\n",
            "|      -73.990135|       40.74885|2016-01-01|\n",
            "|       -74.00532|       40.72866|2016-01-01|\n",
            "|        -73.9358|       40.70731|2016-01-01|\n",
            "|       -73.99496|       40.74512|2016-01-01|\n",
            "|       -73.99046|      40.751007|2016-01-01|\n",
            "|       -73.95364|       40.77526|2016-01-01|\n",
            "+----------------+---------------+----------+\n",
            "only showing top 20 rows\n",
            "\n"
          ]
        }
      ]
    },
    {
      "cell_type": "code",
      "source": [
        "from pyspark.sql.functions import *\n",
        "from pyspark.sql.types import *\n",
        "unionDF = unionDF.withColumn(\"day\", dayofmonth(\"Date\"))\n",
        "unionDF.show()"
      ],
      "metadata": {
        "colab": {
          "base_uri": "https://localhost:8080/"
        },
        "id": "Ut3lxcYxtYUY",
        "outputId": "2e3b0bd8-0635-4d6f-c59c-bac18206e040"
      },
      "execution_count": 17,
      "outputs": [
        {
          "output_type": "stream",
          "name": "stdout",
          "text": [
            "+----------------+---------------+----------+---+\n",
            "|pickup_longitude|pickup_latitude|      Date|day|\n",
            "+----------------+---------------+----------+---+\n",
            "|       -73.98174|       40.71916|2016-01-01|  1|\n",
            "|      -73.985085|      40.747166|2016-01-01|  1|\n",
            "|       -73.96528|       40.80104|2016-01-01|  1|\n",
            "|       -73.98229|       40.75133|2016-01-01|  1|\n",
            "|       -73.97011|        40.7598|2016-01-01|  1|\n",
            "|      -73.973335|      40.764072|2016-01-01|  1|\n",
            "|        -73.9931|      40.752632|2016-01-01|  1|\n",
            "|       -73.98544|       40.73571|2016-01-01|  1|\n",
            "|       -73.99374|       40.74176|2016-01-01|  1|\n",
            "|       -73.97686|      40.683376|2016-01-01|  1|\n",
            "|       -73.96979|      40.757584|2016-01-01|  1|\n",
            "|       -73.99397|      40.740868|2016-01-01|  1|\n",
            "|       -73.95951|       40.76281|2016-01-01|  1|\n",
            "|       -73.99026|      40.737034|2016-01-01|  1|\n",
            "|      -73.990135|       40.74885|2016-01-01|  1|\n",
            "|       -74.00532|       40.72866|2016-01-01|  1|\n",
            "|        -73.9358|       40.70731|2016-01-01|  1|\n",
            "|       -73.99496|       40.74512|2016-01-01|  1|\n",
            "|       -73.99046|      40.751007|2016-01-01|  1|\n",
            "|       -73.95364|       40.77526|2016-01-01|  1|\n",
            "+----------------+---------------+----------+---+\n",
            "only showing top 20 rows\n",
            "\n"
          ]
        }
      ]
    },
    {
      "cell_type": "code",
      "source": [
        "unionDF = unionDF.withColumn(\"month\", month(\"Date\"))\n",
        "unionDF.show(2)"
      ],
      "metadata": {
        "colab": {
          "base_uri": "https://localhost:8080/"
        },
        "id": "sP-NgELUtYW4",
        "outputId": "9c64bb64-31f5-4f44-b7d0-42023b9ca37d"
      },
      "execution_count": 18,
      "outputs": [
        {
          "output_type": "stream",
          "name": "stdout",
          "text": [
            "+----------------+---------------+----------+---+-----+\n",
            "|pickup_longitude|pickup_latitude|      Date|day|month|\n",
            "+----------------+---------------+----------+---+-----+\n",
            "|       -73.98174|       40.71916|2016-01-01|  1|    1|\n",
            "|      -73.985085|      40.747166|2016-01-01|  1|    1|\n",
            "+----------------+---------------+----------+---+-----+\n",
            "only showing top 2 rows\n",
            "\n"
          ]
        }
      ]
    },
    {
      "cell_type": "code",
      "source": [
        "unionDF = unionDF.withColumn(\"Year\", year(\"Date\"))\n",
        "unionDF.show(2)"
      ],
      "metadata": {
        "colab": {
          "base_uri": "https://localhost:8080/"
        },
        "id": "OPKRGe_eMFoz",
        "outputId": "466e0b06-77ec-4a51-c050-5d3ab4802299"
      },
      "execution_count": 19,
      "outputs": [
        {
          "output_type": "stream",
          "name": "stdout",
          "text": [
            "+----------------+---------------+----------+---+-----+----+\n",
            "|pickup_longitude|pickup_latitude|      Date|day|month|Year|\n",
            "+----------------+---------------+----------+---+-----+----+\n",
            "|       -73.98174|       40.71916|2016-01-01|  1|    1|2016|\n",
            "|      -73.985085|      40.747166|2016-01-01|  1|    1|2016|\n",
            "+----------------+---------------+----------+---+-----+----+\n",
            "only showing top 2 rows\n",
            "\n"
          ]
        }
      ]
    },
    {
      "cell_type": "code",
      "source": [
        "unionDF = unionDF.withColumn(\"dayofweek\", date_format(\"date\", 'E'))\n",
        "unionDF.show(2)"
      ],
      "metadata": {
        "colab": {
          "base_uri": "https://localhost:8080/"
        },
        "id": "K6Ssnpkg3-vQ",
        "outputId": "435991bf-caf4-414c-b943-320027b80806"
      },
      "execution_count": 20,
      "outputs": [
        {
          "output_type": "stream",
          "name": "stdout",
          "text": [
            "+----------------+---------------+----------+---+-----+----+---------+\n",
            "|pickup_longitude|pickup_latitude|      Date|day|month|Year|dayofweek|\n",
            "+----------------+---------------+----------+---+-----+----+---------+\n",
            "|       -73.98174|       40.71916|2016-01-01|  1|    1|2016|      Fri|\n",
            "|      -73.985085|      40.747166|2016-01-01|  1|    1|2016|      Fri|\n",
            "+----------------+---------------+----------+---+-----+----+---------+\n",
            "only showing top 2 rows\n",
            "\n"
          ]
        }
      ]
    },
    {
      "cell_type": "markdown",
      "source": [
        "**Number of Trips in year**"
      ],
      "metadata": {
        "id": "B_9B_Z6kLvb3"
      }
    },
    {
      "cell_type": "code",
      "source": [
        "n_trips_of_year = unionDF.groupby('Year').count().orderBy('year')\n",
        "n_trips_of_year.show(2)"
      ],
      "metadata": {
        "colab": {
          "base_uri": "https://localhost:8080/"
        },
        "id": "tyHHA4BsUIeJ",
        "outputId": "d275cda8-4d24-41c6-98e9-9ca083a0617d"
      },
      "execution_count": 28,
      "outputs": [
        {
          "output_type": "stream",
          "name": "stdout",
          "text": [
            "+----+-------+\n",
            "|Year|  count|\n",
            "+----+-------+\n",
            "|2015|1048575|\n",
            "|2016|1048575|\n",
            "+----+-------+\n",
            "\n"
          ]
        }
      ]
    },
    {
      "cell_type": "code",
      "source": [
        "import matplotlib.pyplot as plt\n",
        "import pandas\n",
        "\n",
        "\n",
        "x= n_trips_of_year.toPandas()['Year'].values.tolist()\n",
        "\n",
        "y= n_trips_of_year.toPandas()[\"count\"].values.tolist()\n",
        "\n",
        "plt.bar(x , y  , label=\"Yearly trend\")\n",
        "plt.plot()\n",
        "\n",
        "plt.xlabel(\"Year\")\n",
        "plt.ylabel(\"Count of Trips\")\n",
        "plt.title(\"Line Graph Example\")\n",
        "plt.legend()\n",
        "plt.show()"
      ],
      "metadata": {
        "colab": {
          "base_uri": "https://localhost:8080/",
          "height": 295
        },
        "id": "AIfSY-bW5RMT",
        "outputId": "af5e3b6b-415a-41f6-e649-bd529c1769b1"
      },
      "execution_count": 29,
      "outputs": [
        {
          "output_type": "display_data",
          "data": {
            "text/plain": [
              "<Figure size 432x288 with 1 Axes>"
            ],
            "image/png": "[encoded data removed]"
          },
          "metadata": {
            "needs_background": "light"
          }
        }
      ]
    },
    {
      "cell_type": "markdown",
      "source": [
        "**Number of Trips in months**"
      ],
      "metadata": {
        "id": "E3We2FDROd45"
      }
    },
    {
      "cell_type": "code",
      "source": [
        "n_trips_month = unionDF.groupby(unionDF[\"month\"]).count()\n",
        "n_trips_month.show(2)"
      ],
      "metadata": {
        "colab": {
          "base_uri": "https://localhost:8080/"
        },
        "id": "IyCDlVERT98D",
        "outputId": "d33328fb-e419-4bc7-d0f4-c5329cfadc9f"
      },
      "execution_count": 31,
      "outputs": [
        {
          "output_type": "stream",
          "name": "stdout",
          "text": [
            "+-----+------+\n",
            "|month| count|\n",
            "+-----+------+\n",
            "|    1|363483|\n",
            "|    6|361203|\n",
            "+-----+------+\n",
            "only showing top 2 rows\n",
            "\n"
          ]
        }
      ]
    },
    {
      "cell_type": "code",
      "source": [
        "import matplotlib.pyplot as plt\n",
        "import pandas\n",
        "\n",
        "\n",
        "x= n_trips_month.toPandas()['month'].values.tolist()\n",
        "\n",
        "y= n_trips_month.toPandas()[\"count\"].values.tolist()\n",
        "\n",
        "plt.bar(x , y  , label=\"Days of month trend\")\n",
        "plt.plot()\n",
        "\n",
        "plt.xlabel(\"Months\")\n",
        "plt.ylabel(\"Count of Trips\")\n",
        "plt.title(\"Number of Trips in months\")\n",
        "plt.legend()\n",
        "plt.show()"
      ],
      "metadata": {
        "colab": {
          "base_uri": "https://localhost:8080/",
          "height": 295
        },
        "id": "CIkftF39OBAg",
        "outputId": "87512715-d2b5-4916-913a-626d2275ef88"
      },
      "execution_count": 40,
      "outputs": [
        {
          "output_type": "display_data",
          "data": {
            "text/plain": [
              "<Figure size 432x288 with 1 Axes>"
            ],
            "image/png": "[encoded data removed]"
          },
          "metadata": {
            "needs_background": "light"
          }
        }
      ]
    },
    {
      "cell_type": "markdown",
      "source": [
        "**Number of Trips in days of months**"
      ],
      "metadata": {
        "id": "d-NrJiArOiDD"
      }
    },
    {
      "cell_type": "code",
      "source": [
        "n_trips_of_day = unionDF.groupby('day').count()\n",
        "n_trips_of_day.show(2)"
      ],
      "metadata": {
        "colab": {
          "base_uri": "https://localhost:8080/"
        },
        "id": "TWb8k8K0Sk6D",
        "outputId": "3020f369-1496-4b84-ee64-345660e35f33"
      },
      "execution_count": 34,
      "outputs": [
        {
          "output_type": "stream",
          "name": "stdout",
          "text": [
            "+---+-----+\n",
            "|day|count|\n",
            "+---+-----+\n",
            "| 31|52778|\n",
            "| 28|80293|\n",
            "+---+-----+\n",
            "only showing top 2 rows\n",
            "\n"
          ]
        }
      ]
    },
    {
      "cell_type": "code",
      "source": [
        "import matplotlib.pyplot as plt\n",
        "import pandas\n",
        "\n",
        "\n",
        "x= n_trips_of_day.toPandas()['day'].values.tolist()\n",
        "\n",
        "y= n_trips_of_day.toPandas()[\"count\"].values.tolist()\n",
        "\n",
        "plt.bar(x , y  , label=\"Days of month trend\")\n",
        "plt.plot()\n",
        "\n",
        "plt.xlabel(\"DaysOfMonth\")\n",
        "plt.ylabel(\"Count of Trips\")\n",
        "plt.title(\"Number of Trips in days of months\")\n",
        "plt.legend()\n",
        "plt.show()"
      ],
      "metadata": {
        "colab": {
          "base_uri": "https://localhost:8080/",
          "height": 295
        },
        "id": "ph4xheBOOlH-",
        "outputId": "f64e6f03-2349-4637-d0a8-4e946215005b"
      },
      "execution_count": 41,
      "outputs": [
        {
          "output_type": "display_data",
          "data": {
            "text/plain": [
              "<Figure size 432x288 with 1 Axes>"
            ],
            "image/png": "[encoded data removed]"
          },
          "metadata": {
            "needs_background": "light"
          }
        }
      ]
    },
    {
      "cell_type": "markdown",
      "source": [
        "**Number of Trips in days of week**"
      ],
      "metadata": {
        "id": "G9gBku5oOlaq"
      }
    },
    {
      "cell_type": "code",
      "source": [
        "n_trips_dayofweek = unionDF.groupby(unionDF[\"dayofweek\"]).count()\n",
        "n_trips_dayofweek.show(2)"
      ],
      "metadata": {
        "colab": {
          "base_uri": "https://localhost:8080/"
        },
        "id": "wIa8NrEGSoXU",
        "outputId": "80dac583-0bda-4f33-af7d-ef0db3751d7c"
      },
      "execution_count": 37,
      "outputs": [
        {
          "output_type": "stream",
          "name": "stdout",
          "text": [
            "+---------+------+\n",
            "|dayofweek| count|\n",
            "+---------+------+\n",
            "|      Sun|305080|\n",
            "|      Mon|288227|\n",
            "+---------+------+\n",
            "only showing top 2 rows\n",
            "\n"
          ]
        }
      ]
    },
    {
      "cell_type": "code",
      "source": [
        "import matplotlib.pyplot as plt\n",
        "import pandas\n",
        "\n",
        "\n",
        "x= n_trips_dayofweek.toPandas()['dayofweek'].values.tolist()\n",
        "\n",
        "y= n_trips_dayofweek.toPandas()[\"count\"].values.tolist()\n",
        "\n",
        "plt.bar(x , y  , label=\"Days of week trend\")\n",
        "plt.plot()\n",
        "\n",
        "plt.xlabel(\"DaysOfWeek\")\n",
        "plt.ylabel(\"Count of Trips\")\n",
        "plt.title(\"Number of Trips in days of week\")\n",
        "plt.legend()\n",
        "plt.show()"
      ],
      "metadata": {
        "colab": {
          "base_uri": "https://localhost:8080/",
          "height": 295
        },
        "id": "HfNZ5HgdOBDo",
        "outputId": "1c3c1114-abb3-4b94-ad5f-a99463e8c837"
      },
      "execution_count": 42,
      "outputs": [
        {
          "output_type": "display_data",
          "data": {
            "text/plain": [
              "<Figure size 432x288 with 1 Axes>"
            ],
            "image/png": "[encoded data removed]"
          },
          "metadata": {
            "needs_background": "light"
          }
        }
      ]
    },
    {
      "cell_type": "code",
      "source": [
        ""
      ],
      "metadata": {
        "id": "_kCXU-GfOBG3"
      },
      "execution_count": null,
      "outputs": []
    },
    {
      "cell_type": "code",
      "source": [
        ""
      ],
      "metadata": {
        "id": "GSy0LlxiSYFz"
      },
      "execution_count": null,
      "outputs": []
    },
    {
      "cell_type": "code",
      "source": [
        ""
      ],
      "metadata": {
        "id": "7i01WbuzSYIT"
      },
      "execution_count": null,
      "outputs": []
    }
  ]
}